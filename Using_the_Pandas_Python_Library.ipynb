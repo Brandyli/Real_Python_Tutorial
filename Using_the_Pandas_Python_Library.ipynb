{
  "nbformat": 4,
  "nbformat_minor": 0,
  "metadata": {
    "colab": {
      "name": "Using the Pandas Python Library.ipynb",
      "provenance": []
    },
    "kernelspec": {
      "name": "python3",
      "display_name": "Python 3"
    }
  },
  "cells": [
    {
      "cell_type": "markdown",
      "metadata": {
        "id": "Lzi0Wlkt4OL3",
        "colab_type": "text"
      },
      "source": [
        "analyze NBA results provided by FiveThirtyEight in a 17MB CSV file. \n",
        "Create a script download_nba_all_elo.py to download the data"
      ]
    },
    {
      "cell_type": "markdown",
      "metadata": {
        "id": "ZzPRga1N9EKQ",
        "colab_type": "text"
      },
      "source": [
        "When I excute the script, it will save the file nba_all_elo.csv in your current working directory."
      ]
    },
    {
      "cell_type": "code",
      "metadata": {
        "id": "8j380BOD3wus",
        "colab_type": "code",
        "outputId": "4552795f-d2ba-4128-89e5-ad78f85839db",
        "colab": {
          "base_uri": "https://localhost:8080/",
          "height": 34
        }
      },
      "source": [
        "import requests\n",
        "\n",
        "download_url = \"https://raw.githubusercontent.com/fivethirtyeight/data/master/nba-elo/nbaallelo.csv\"\n",
        "target_csv_path = \"nba_all_elo.csv\"\n",
        "\n",
        "response = requests.get(download_url)\n",
        "# raise_for_status()\t\tIf an error occur, this method returns a HTTPError object\n",
        "response.raise_for_status()    # Check that the request was successful\n",
        "# We can use with statement in Python such that we don’t have to \n",
        "# close the file handler. The with statement creates a context manager and it will automatically close \n",
        "# the file handler for you when you are done with it.\n",
        "# \"wb\" write binary mode\n",
        "with open(target_csv_path, \"wb\") as f:\n",
        "# .content\t\tReturns the content of the response, in bytes\n",
        "# save the file nba_all_elo.csv in your current working directory\n",
        "   f.write(response.content)\n",
        "\n",
        "print(\"Download ready.\")"
      ],
      "execution_count": 0,
      "outputs": [
        {
          "output_type": "stream",
          "text": [
            "Download ready.\n"
          ],
          "name": "stdout"
        }
      ]
    },
    {
      "cell_type": "markdown",
      "metadata": {
        "id": "JFk2uAzuJxCB",
        "colab_type": "text"
      },
      "source": [
        "I use pd.read_csv to read my dataset and store it as a DataFrame object. similar functions like read_json(), read_html(), and read_sql_table(). \n"
      ]
    },
    {
      "cell_type": "code",
      "metadata": {
        "id": "kfmZ-t4F38S6",
        "colab_type": "code",
        "outputId": "419c21a8-5c66-40bd-bcf0-87bffd0a8f83",
        "colab": {
          "base_uri": "https://localhost:8080/",
          "height": 34
        }
      },
      "source": [
        "import pandas as pd\n",
        "nba=pd.read_csv(\"nba_all_elo.csv\")\n",
        "type(nba)"
      ],
      "execution_count": 0,
      "outputs": [
        {
          "output_type": "execute_result",
          "data": {
            "text/plain": [
              "pandas.core.frame.DataFrame"
            ]
          },
          "metadata": {
            "tags": []
          },
          "execution_count": 138
        }
      ]
    },
    {
      "cell_type": "code",
      "metadata": {
        "id": "iY_VgxxY3V6c",
        "colab_type": "code",
        "outputId": "ee14d910-37dd-482c-ff6f-233146429f62",
        "colab": {
          "base_uri": "https://localhost:8080/",
          "height": 34
        }
      },
      "source": [
        "len(nba)"
      ],
      "execution_count": 0,
      "outputs": [
        {
          "output_type": "execute_result",
          "data": {
            "text/plain": [
              "126314"
            ]
          },
          "metadata": {
            "tags": []
          },
          "execution_count": 139
        }
      ]
    },
    {
      "cell_type": "markdown",
      "metadata": {
        "id": "tgxPNEfe4Lab",
        "colab_type": "text"
      },
      "source": [
        "len() to determine the number of row\n",
        " .shape attribute of the DataFrame to see its dimensionality. The result is a tuple containing the number of rows and columns."
      ]
    },
    {
      "cell_type": "code",
      "metadata": {
        "id": "3cXvFv8SKWqb",
        "colab_type": "code",
        "outputId": "d3b73a2e-270a-4380-9e1c-587abb3ad8ce",
        "colab": {
          "base_uri": "https://localhost:8080/",
          "height": 34
        }
      },
      "source": [
        "nba.shape"
      ],
      "execution_count": 0,
      "outputs": [
        {
          "output_type": "execute_result",
          "data": {
            "text/plain": [
              "(126314, 23)"
            ]
          },
          "metadata": {
            "tags": []
          },
          "execution_count": 140
        }
      ]
    },
    {
      "cell_type": "markdown",
      "metadata": {
        "id": "W2mL_bRz3t1L",
        "colab_type": "text"
      },
      "source": [
        "You can configure Pandas to display all 23 columns like this:"
      ]
    },
    {
      "cell_type": "code",
      "metadata": {
        "id": "DcB9G8XyKdq5",
        "colab_type": "code",
        "colab": {}
      },
      "source": [
        "pd.set_option(\"display.max_column\",None)"
      ],
      "execution_count": 0,
      "outputs": []
    },
    {
      "cell_type": "code",
      "metadata": {
        "id": "meeC13VmLoNZ",
        "colab_type": "code",
        "outputId": "24c8ad6d-c361-45ce-ac81-9d88abdc3a5f",
        "colab": {
          "base_uri": "https://localhost:8080/",
          "height": 224
        }
      },
      "source": [
        "nba.head()"
      ],
      "execution_count": 0,
      "outputs": [
        {
          "output_type": "execute_result",
          "data": {
            "text/html": [
              "<div>\n",
              "<style scoped>\n",
              "    .dataframe tbody tr th:only-of-type {\n",
              "        vertical-align: middle;\n",
              "    }\n",
              "\n",
              "    .dataframe tbody tr th {\n",
              "        vertical-align: top;\n",
              "    }\n",
              "\n",
              "    .dataframe thead th {\n",
              "        text-align: right;\n",
              "    }\n",
              "</style>\n",
              "<table border=\"1\" class=\"dataframe\">\n",
              "  <thead>\n",
              "    <tr style=\"text-align: right;\">\n",
              "      <th></th>\n",
              "      <th>gameorder</th>\n",
              "      <th>game_id</th>\n",
              "      <th>lg_id</th>\n",
              "      <th>_iscopy</th>\n",
              "      <th>year_id</th>\n",
              "      <th>date_game</th>\n",
              "      <th>seasongame</th>\n",
              "      <th>is_playoffs</th>\n",
              "      <th>team_id</th>\n",
              "      <th>fran_id</th>\n",
              "      <th>pts</th>\n",
              "      <th>elo_i</th>\n",
              "      <th>elo_n</th>\n",
              "      <th>win_equiv</th>\n",
              "      <th>opp_id</th>\n",
              "      <th>opp_fran</th>\n",
              "      <th>opp_pts</th>\n",
              "      <th>opp_elo_i</th>\n",
              "      <th>opp_elo_n</th>\n",
              "      <th>game_location</th>\n",
              "      <th>game_result</th>\n",
              "      <th>forecast</th>\n",
              "      <th>notes</th>\n",
              "    </tr>\n",
              "  </thead>\n",
              "  <tbody>\n",
              "    <tr>\n",
              "      <th>0</th>\n",
              "      <td>1</td>\n",
              "      <td>194611010TRH</td>\n",
              "      <td>NBA</td>\n",
              "      <td>0</td>\n",
              "      <td>1947</td>\n",
              "      <td>11/1/1946</td>\n",
              "      <td>1</td>\n",
              "      <td>0</td>\n",
              "      <td>TRH</td>\n",
              "      <td>Huskies</td>\n",
              "      <td>66</td>\n",
              "      <td>1300.00</td>\n",
              "      <td>1293.28</td>\n",
              "      <td>40.29</td>\n",
              "      <td>NYK</td>\n",
              "      <td>Knicks</td>\n",
              "      <td>68</td>\n",
              "      <td>1300.00</td>\n",
              "      <td>1306.72</td>\n",
              "      <td>H</td>\n",
              "      <td>L</td>\n",
              "      <td>0.64</td>\n",
              "      <td>NaN</td>\n",
              "    </tr>\n",
              "    <tr>\n",
              "      <th>1</th>\n",
              "      <td>1</td>\n",
              "      <td>194611010TRH</td>\n",
              "      <td>NBA</td>\n",
              "      <td>1</td>\n",
              "      <td>1947</td>\n",
              "      <td>11/1/1946</td>\n",
              "      <td>1</td>\n",
              "      <td>0</td>\n",
              "      <td>NYK</td>\n",
              "      <td>Knicks</td>\n",
              "      <td>68</td>\n",
              "      <td>1300.00</td>\n",
              "      <td>1306.72</td>\n",
              "      <td>41.71</td>\n",
              "      <td>TRH</td>\n",
              "      <td>Huskies</td>\n",
              "      <td>66</td>\n",
              "      <td>1300.00</td>\n",
              "      <td>1293.28</td>\n",
              "      <td>A</td>\n",
              "      <td>W</td>\n",
              "      <td>0.36</td>\n",
              "      <td>NaN</td>\n",
              "    </tr>\n",
              "    <tr>\n",
              "      <th>2</th>\n",
              "      <td>2</td>\n",
              "      <td>194611020CHS</td>\n",
              "      <td>NBA</td>\n",
              "      <td>0</td>\n",
              "      <td>1947</td>\n",
              "      <td>11/2/1946</td>\n",
              "      <td>1</td>\n",
              "      <td>0</td>\n",
              "      <td>CHS</td>\n",
              "      <td>Stags</td>\n",
              "      <td>63</td>\n",
              "      <td>1300.00</td>\n",
              "      <td>1309.65</td>\n",
              "      <td>42.01</td>\n",
              "      <td>NYK</td>\n",
              "      <td>Knicks</td>\n",
              "      <td>47</td>\n",
              "      <td>1306.72</td>\n",
              "      <td>1297.07</td>\n",
              "      <td>H</td>\n",
              "      <td>W</td>\n",
              "      <td>0.63</td>\n",
              "      <td>NaN</td>\n",
              "    </tr>\n",
              "    <tr>\n",
              "      <th>3</th>\n",
              "      <td>2</td>\n",
              "      <td>194611020CHS</td>\n",
              "      <td>NBA</td>\n",
              "      <td>1</td>\n",
              "      <td>1947</td>\n",
              "      <td>11/2/1946</td>\n",
              "      <td>2</td>\n",
              "      <td>0</td>\n",
              "      <td>NYK</td>\n",
              "      <td>Knicks</td>\n",
              "      <td>47</td>\n",
              "      <td>1306.72</td>\n",
              "      <td>1297.07</td>\n",
              "      <td>40.69</td>\n",
              "      <td>CHS</td>\n",
              "      <td>Stags</td>\n",
              "      <td>63</td>\n",
              "      <td>1300.00</td>\n",
              "      <td>1309.65</td>\n",
              "      <td>A</td>\n",
              "      <td>L</td>\n",
              "      <td>0.37</td>\n",
              "      <td>NaN</td>\n",
              "    </tr>\n",
              "    <tr>\n",
              "      <th>4</th>\n",
              "      <td>3</td>\n",
              "      <td>194611020DTF</td>\n",
              "      <td>NBA</td>\n",
              "      <td>0</td>\n",
              "      <td>1947</td>\n",
              "      <td>11/2/1946</td>\n",
              "      <td>1</td>\n",
              "      <td>0</td>\n",
              "      <td>DTF</td>\n",
              "      <td>Falcons</td>\n",
              "      <td>33</td>\n",
              "      <td>1300.00</td>\n",
              "      <td>1279.62</td>\n",
              "      <td>38.86</td>\n",
              "      <td>WSC</td>\n",
              "      <td>Capitols</td>\n",
              "      <td>50</td>\n",
              "      <td>1300.00</td>\n",
              "      <td>1320.38</td>\n",
              "      <td>H</td>\n",
              "      <td>L</td>\n",
              "      <td>0.64</td>\n",
              "      <td>NaN</td>\n",
              "    </tr>\n",
              "  </tbody>\n",
              "</table>\n",
              "</div>"
            ],
            "text/plain": [
              "   gameorder       game_id lg_id  _iscopy  year_id  date_game  seasongame  \\\n",
              "0          1  194611010TRH   NBA        0     1947  11/1/1946           1   \n",
              "1          1  194611010TRH   NBA        1     1947  11/1/1946           1   \n",
              "2          2  194611020CHS   NBA        0     1947  11/2/1946           1   \n",
              "3          2  194611020CHS   NBA        1     1947  11/2/1946           2   \n",
              "4          3  194611020DTF   NBA        0     1947  11/2/1946           1   \n",
              "\n",
              "   is_playoffs team_id  fran_id  pts    elo_i    elo_n  win_equiv opp_id  \\\n",
              "0            0     TRH  Huskies   66  1300.00  1293.28      40.29    NYK   \n",
              "1            0     NYK   Knicks   68  1300.00  1306.72      41.71    TRH   \n",
              "2            0     CHS    Stags   63  1300.00  1309.65      42.01    NYK   \n",
              "3            0     NYK   Knicks   47  1306.72  1297.07      40.69    CHS   \n",
              "4            0     DTF  Falcons   33  1300.00  1279.62      38.86    WSC   \n",
              "\n",
              "   opp_fran  opp_pts  opp_elo_i  opp_elo_n game_location game_result  \\\n",
              "0    Knicks       68    1300.00    1306.72             H           L   \n",
              "1   Huskies       66    1300.00    1293.28             A           W   \n",
              "2    Knicks       47    1306.72    1297.07             H           W   \n",
              "3     Stags       63    1300.00    1309.65             A           L   \n",
              "4  Capitols       50    1300.00    1320.38             H           L   \n",
              "\n",
              "   forecast notes  \n",
              "0      0.64   NaN  \n",
              "1      0.36   NaN  \n",
              "2      0.63   NaN  \n",
              "3      0.37   NaN  \n",
              "4      0.64   NaN  "
            ]
          },
          "metadata": {
            "tags": []
          },
          "execution_count": 142
        }
      ]
    },
    {
      "cell_type": "code",
      "metadata": {
        "id": "YDeawq-6LX8i",
        "colab_type": "code",
        "colab": {}
      },
      "source": [
        "pd.set_option(\"display.precision\", 2)"
      ],
      "execution_count": 0,
      "outputs": []
    },
    {
      "cell_type": "code",
      "metadata": {
        "id": "aqWCjNvTLhJp",
        "colab_type": "code",
        "outputId": "c7804eb5-0b9c-4406-b832-74ecea383960",
        "colab": {
          "base_uri": "https://localhost:8080/",
          "height": 224
        }
      },
      "source": [
        "nba.head()"
      ],
      "execution_count": 0,
      "outputs": [
        {
          "output_type": "execute_result",
          "data": {
            "text/html": [
              "<div>\n",
              "<style scoped>\n",
              "    .dataframe tbody tr th:only-of-type {\n",
              "        vertical-align: middle;\n",
              "    }\n",
              "\n",
              "    .dataframe tbody tr th {\n",
              "        vertical-align: top;\n",
              "    }\n",
              "\n",
              "    .dataframe thead th {\n",
              "        text-align: right;\n",
              "    }\n",
              "</style>\n",
              "<table border=\"1\" class=\"dataframe\">\n",
              "  <thead>\n",
              "    <tr style=\"text-align: right;\">\n",
              "      <th></th>\n",
              "      <th>gameorder</th>\n",
              "      <th>game_id</th>\n",
              "      <th>lg_id</th>\n",
              "      <th>_iscopy</th>\n",
              "      <th>year_id</th>\n",
              "      <th>date_game</th>\n",
              "      <th>seasongame</th>\n",
              "      <th>is_playoffs</th>\n",
              "      <th>team_id</th>\n",
              "      <th>fran_id</th>\n",
              "      <th>pts</th>\n",
              "      <th>elo_i</th>\n",
              "      <th>elo_n</th>\n",
              "      <th>win_equiv</th>\n",
              "      <th>opp_id</th>\n",
              "      <th>opp_fran</th>\n",
              "      <th>opp_pts</th>\n",
              "      <th>opp_elo_i</th>\n",
              "      <th>opp_elo_n</th>\n",
              "      <th>game_location</th>\n",
              "      <th>game_result</th>\n",
              "      <th>forecast</th>\n",
              "      <th>notes</th>\n",
              "    </tr>\n",
              "  </thead>\n",
              "  <tbody>\n",
              "    <tr>\n",
              "      <th>0</th>\n",
              "      <td>1</td>\n",
              "      <td>194611010TRH</td>\n",
              "      <td>NBA</td>\n",
              "      <td>0</td>\n",
              "      <td>1947</td>\n",
              "      <td>11/1/1946</td>\n",
              "      <td>1</td>\n",
              "      <td>0</td>\n",
              "      <td>TRH</td>\n",
              "      <td>Huskies</td>\n",
              "      <td>66</td>\n",
              "      <td>1300.00</td>\n",
              "      <td>1293.28</td>\n",
              "      <td>40.29</td>\n",
              "      <td>NYK</td>\n",
              "      <td>Knicks</td>\n",
              "      <td>68</td>\n",
              "      <td>1300.00</td>\n",
              "      <td>1306.72</td>\n",
              "      <td>H</td>\n",
              "      <td>L</td>\n",
              "      <td>0.64</td>\n",
              "      <td>NaN</td>\n",
              "    </tr>\n",
              "    <tr>\n",
              "      <th>1</th>\n",
              "      <td>1</td>\n",
              "      <td>194611010TRH</td>\n",
              "      <td>NBA</td>\n",
              "      <td>1</td>\n",
              "      <td>1947</td>\n",
              "      <td>11/1/1946</td>\n",
              "      <td>1</td>\n",
              "      <td>0</td>\n",
              "      <td>NYK</td>\n",
              "      <td>Knicks</td>\n",
              "      <td>68</td>\n",
              "      <td>1300.00</td>\n",
              "      <td>1306.72</td>\n",
              "      <td>41.71</td>\n",
              "      <td>TRH</td>\n",
              "      <td>Huskies</td>\n",
              "      <td>66</td>\n",
              "      <td>1300.00</td>\n",
              "      <td>1293.28</td>\n",
              "      <td>A</td>\n",
              "      <td>W</td>\n",
              "      <td>0.36</td>\n",
              "      <td>NaN</td>\n",
              "    </tr>\n",
              "    <tr>\n",
              "      <th>2</th>\n",
              "      <td>2</td>\n",
              "      <td>194611020CHS</td>\n",
              "      <td>NBA</td>\n",
              "      <td>0</td>\n",
              "      <td>1947</td>\n",
              "      <td>11/2/1946</td>\n",
              "      <td>1</td>\n",
              "      <td>0</td>\n",
              "      <td>CHS</td>\n",
              "      <td>Stags</td>\n",
              "      <td>63</td>\n",
              "      <td>1300.00</td>\n",
              "      <td>1309.65</td>\n",
              "      <td>42.01</td>\n",
              "      <td>NYK</td>\n",
              "      <td>Knicks</td>\n",
              "      <td>47</td>\n",
              "      <td>1306.72</td>\n",
              "      <td>1297.07</td>\n",
              "      <td>H</td>\n",
              "      <td>W</td>\n",
              "      <td>0.63</td>\n",
              "      <td>NaN</td>\n",
              "    </tr>\n",
              "    <tr>\n",
              "      <th>3</th>\n",
              "      <td>2</td>\n",
              "      <td>194611020CHS</td>\n",
              "      <td>NBA</td>\n",
              "      <td>1</td>\n",
              "      <td>1947</td>\n",
              "      <td>11/2/1946</td>\n",
              "      <td>2</td>\n",
              "      <td>0</td>\n",
              "      <td>NYK</td>\n",
              "      <td>Knicks</td>\n",
              "      <td>47</td>\n",
              "      <td>1306.72</td>\n",
              "      <td>1297.07</td>\n",
              "      <td>40.69</td>\n",
              "      <td>CHS</td>\n",
              "      <td>Stags</td>\n",
              "      <td>63</td>\n",
              "      <td>1300.00</td>\n",
              "      <td>1309.65</td>\n",
              "      <td>A</td>\n",
              "      <td>L</td>\n",
              "      <td>0.37</td>\n",
              "      <td>NaN</td>\n",
              "    </tr>\n",
              "    <tr>\n",
              "      <th>4</th>\n",
              "      <td>3</td>\n",
              "      <td>194611020DTF</td>\n",
              "      <td>NBA</td>\n",
              "      <td>0</td>\n",
              "      <td>1947</td>\n",
              "      <td>11/2/1946</td>\n",
              "      <td>1</td>\n",
              "      <td>0</td>\n",
              "      <td>DTF</td>\n",
              "      <td>Falcons</td>\n",
              "      <td>33</td>\n",
              "      <td>1300.00</td>\n",
              "      <td>1279.62</td>\n",
              "      <td>38.86</td>\n",
              "      <td>WSC</td>\n",
              "      <td>Capitols</td>\n",
              "      <td>50</td>\n",
              "      <td>1300.00</td>\n",
              "      <td>1320.38</td>\n",
              "      <td>H</td>\n",
              "      <td>L</td>\n",
              "      <td>0.64</td>\n",
              "      <td>NaN</td>\n",
              "    </tr>\n",
              "  </tbody>\n",
              "</table>\n",
              "</div>"
            ],
            "text/plain": [
              "   gameorder       game_id lg_id  _iscopy  year_id  date_game  seasongame  \\\n",
              "0          1  194611010TRH   NBA        0     1947  11/1/1946           1   \n",
              "1          1  194611010TRH   NBA        1     1947  11/1/1946           1   \n",
              "2          2  194611020CHS   NBA        0     1947  11/2/1946           1   \n",
              "3          2  194611020CHS   NBA        1     1947  11/2/1946           2   \n",
              "4          3  194611020DTF   NBA        0     1947  11/2/1946           1   \n",
              "\n",
              "   is_playoffs team_id  fran_id  pts    elo_i    elo_n  win_equiv opp_id  \\\n",
              "0            0     TRH  Huskies   66  1300.00  1293.28      40.29    NYK   \n",
              "1            0     NYK   Knicks   68  1300.00  1306.72      41.71    TRH   \n",
              "2            0     CHS    Stags   63  1300.00  1309.65      42.01    NYK   \n",
              "3            0     NYK   Knicks   47  1306.72  1297.07      40.69    CHS   \n",
              "4            0     DTF  Falcons   33  1300.00  1279.62      38.86    WSC   \n",
              "\n",
              "   opp_fran  opp_pts  opp_elo_i  opp_elo_n game_location game_result  \\\n",
              "0    Knicks       68    1300.00    1306.72             H           L   \n",
              "1   Huskies       66    1300.00    1293.28             A           W   \n",
              "2    Knicks       47    1306.72    1297.07             H           W   \n",
              "3     Stags       63    1300.00    1309.65             A           L   \n",
              "4  Capitols       50    1300.00    1320.38             H           L   \n",
              "\n",
              "   forecast notes  \n",
              "0      0.64   NaN  \n",
              "1      0.36   NaN  \n",
              "2      0.63   NaN  \n",
              "3      0.37   NaN  \n",
              "4      0.64   NaN  "
            ]
          },
          "metadata": {
            "tags": []
          },
          "execution_count": 144
        }
      ]
    },
    {
      "cell_type": "code",
      "metadata": {
        "id": "5Bp4l4xsLmF-",
        "colab_type": "code",
        "outputId": "a1c98408-eb27-4ca5-af4e-5c1cf779bb86",
        "colab": {
          "base_uri": "https://localhost:8080/",
          "height": 162
        }
      },
      "source": [
        "nba.tail(3)"
      ],
      "execution_count": 0,
      "outputs": [
        {
          "output_type": "execute_result",
          "data": {
            "text/html": [
              "<div>\n",
              "<style scoped>\n",
              "    .dataframe tbody tr th:only-of-type {\n",
              "        vertical-align: middle;\n",
              "    }\n",
              "\n",
              "    .dataframe tbody tr th {\n",
              "        vertical-align: top;\n",
              "    }\n",
              "\n",
              "    .dataframe thead th {\n",
              "        text-align: right;\n",
              "    }\n",
              "</style>\n",
              "<table border=\"1\" class=\"dataframe\">\n",
              "  <thead>\n",
              "    <tr style=\"text-align: right;\">\n",
              "      <th></th>\n",
              "      <th>gameorder</th>\n",
              "      <th>game_id</th>\n",
              "      <th>lg_id</th>\n",
              "      <th>_iscopy</th>\n",
              "      <th>year_id</th>\n",
              "      <th>date_game</th>\n",
              "      <th>seasongame</th>\n",
              "      <th>is_playoffs</th>\n",
              "      <th>team_id</th>\n",
              "      <th>fran_id</th>\n",
              "      <th>pts</th>\n",
              "      <th>elo_i</th>\n",
              "      <th>elo_n</th>\n",
              "      <th>win_equiv</th>\n",
              "      <th>opp_id</th>\n",
              "      <th>opp_fran</th>\n",
              "      <th>opp_pts</th>\n",
              "      <th>opp_elo_i</th>\n",
              "      <th>opp_elo_n</th>\n",
              "      <th>game_location</th>\n",
              "      <th>game_result</th>\n",
              "      <th>forecast</th>\n",
              "      <th>notes</th>\n",
              "    </tr>\n",
              "  </thead>\n",
              "  <tbody>\n",
              "    <tr>\n",
              "      <th>126311</th>\n",
              "      <td>63156</td>\n",
              "      <td>201506140GSW</td>\n",
              "      <td>NBA</td>\n",
              "      <td>1</td>\n",
              "      <td>2015</td>\n",
              "      <td>6/14/2015</td>\n",
              "      <td>101</td>\n",
              "      <td>1</td>\n",
              "      <td>CLE</td>\n",
              "      <td>Cavaliers</td>\n",
              "      <td>91</td>\n",
              "      <td>1704.39</td>\n",
              "      <td>1700.74</td>\n",
              "      <td>60.01</td>\n",
              "      <td>GSW</td>\n",
              "      <td>Warriors</td>\n",
              "      <td>104</td>\n",
              "      <td>1809.98</td>\n",
              "      <td>1813.63</td>\n",
              "      <td>A</td>\n",
              "      <td>L</td>\n",
              "      <td>0.23</td>\n",
              "      <td>NaN</td>\n",
              "    </tr>\n",
              "    <tr>\n",
              "      <th>126312</th>\n",
              "      <td>63157</td>\n",
              "      <td>201506170CLE</td>\n",
              "      <td>NBA</td>\n",
              "      <td>0</td>\n",
              "      <td>2015</td>\n",
              "      <td>6/16/2015</td>\n",
              "      <td>102</td>\n",
              "      <td>1</td>\n",
              "      <td>CLE</td>\n",
              "      <td>Cavaliers</td>\n",
              "      <td>97</td>\n",
              "      <td>1700.74</td>\n",
              "      <td>1692.09</td>\n",
              "      <td>59.29</td>\n",
              "      <td>GSW</td>\n",
              "      <td>Warriors</td>\n",
              "      <td>105</td>\n",
              "      <td>1813.63</td>\n",
              "      <td>1822.29</td>\n",
              "      <td>H</td>\n",
              "      <td>L</td>\n",
              "      <td>0.48</td>\n",
              "      <td>NaN</td>\n",
              "    </tr>\n",
              "    <tr>\n",
              "      <th>126313</th>\n",
              "      <td>63157</td>\n",
              "      <td>201506170CLE</td>\n",
              "      <td>NBA</td>\n",
              "      <td>1</td>\n",
              "      <td>2015</td>\n",
              "      <td>6/16/2015</td>\n",
              "      <td>103</td>\n",
              "      <td>1</td>\n",
              "      <td>GSW</td>\n",
              "      <td>Warriors</td>\n",
              "      <td>105</td>\n",
              "      <td>1813.63</td>\n",
              "      <td>1822.29</td>\n",
              "      <td>68.52</td>\n",
              "      <td>CLE</td>\n",
              "      <td>Cavaliers</td>\n",
              "      <td>97</td>\n",
              "      <td>1700.74</td>\n",
              "      <td>1692.09</td>\n",
              "      <td>A</td>\n",
              "      <td>W</td>\n",
              "      <td>0.52</td>\n",
              "      <td>NaN</td>\n",
              "    </tr>\n",
              "  </tbody>\n",
              "</table>\n",
              "</div>"
            ],
            "text/plain": [
              "        gameorder       game_id lg_id  _iscopy  year_id  date_game  \\\n",
              "126311      63156  201506140GSW   NBA        1     2015  6/14/2015   \n",
              "126312      63157  201506170CLE   NBA        0     2015  6/16/2015   \n",
              "126313      63157  201506170CLE   NBA        1     2015  6/16/2015   \n",
              "\n",
              "        seasongame  is_playoffs team_id    fran_id  pts    elo_i    elo_n  \\\n",
              "126311         101            1     CLE  Cavaliers   91  1704.39  1700.74   \n",
              "126312         102            1     CLE  Cavaliers   97  1700.74  1692.09   \n",
              "126313         103            1     GSW   Warriors  105  1813.63  1822.29   \n",
              "\n",
              "        win_equiv opp_id   opp_fran  opp_pts  opp_elo_i  opp_elo_n  \\\n",
              "126311      60.01    GSW   Warriors      104    1809.98    1813.63   \n",
              "126312      59.29    GSW   Warriors      105    1813.63    1822.29   \n",
              "126313      68.52    CLE  Cavaliers       97    1700.74    1692.09   \n",
              "\n",
              "       game_location game_result  forecast notes  \n",
              "126311             A           L      0.23   NaN  \n",
              "126312             H           L      0.48   NaN  \n",
              "126313             A           W      0.52   NaN  "
            ]
          },
          "metadata": {
            "tags": []
          },
          "execution_count": 145
        }
      ]
    },
    {
      "cell_type": "markdown",
      "metadata": {
        "id": "EslRKCY14ya2",
        "colab_type": "text"
      },
      "source": [
        "# Getting to Know Your Data"
      ]
    },
    {
      "cell_type": "markdown",
      "metadata": {
        "id": "WeSTIAst4161",
        "colab_type": "text"
      },
      "source": [
        "You’ve imported a CSV file with the Pandas Python library and had a first look at the contents of your dataset. So far, you’ve only seen the size of your dataset and its first and last few rows. Next, you’ll learn how to examine your data more systematically."
      ]
    },
    {
      "cell_type": "markdown",
      "metadata": {
        "id": "AGi3L5UlM0vY",
        "colab_type": "text"
      },
      "source": [
        "Use .info() to display all columns and data type"
      ]
    },
    {
      "cell_type": "code",
      "metadata": {
        "id": "dvHWZEIYMHax",
        "colab_type": "code",
        "outputId": "3996f03d-4c2c-4d33-9246-0433ef6b6b79",
        "colab": {
          "base_uri": "https://localhost:8080/",
          "height": 527
        }
      },
      "source": [
        "nba.info()"
      ],
      "execution_count": 0,
      "outputs": [
        {
          "output_type": "stream",
          "text": [
            "<class 'pandas.core.frame.DataFrame'>\n",
            "RangeIndex: 126314 entries, 0 to 126313\n",
            "Data columns (total 23 columns):\n",
            " #   Column         Non-Null Count   Dtype  \n",
            "---  ------         --------------   -----  \n",
            " 0   gameorder      126314 non-null  int64  \n",
            " 1   game_id        126314 non-null  object \n",
            " 2   lg_id          126314 non-null  object \n",
            " 3   _iscopy        126314 non-null  int64  \n",
            " 4   year_id        126314 non-null  int64  \n",
            " 5   date_game      126314 non-null  object \n",
            " 6   seasongame     126314 non-null  int64  \n",
            " 7   is_playoffs    126314 non-null  int64  \n",
            " 8   team_id        126314 non-null  object \n",
            " 9   fran_id        126314 non-null  object \n",
            " 10  pts            126314 non-null  int64  \n",
            " 11  elo_i          126314 non-null  float64\n",
            " 12  elo_n          126314 non-null  float64\n",
            " 13  win_equiv      126314 non-null  float64\n",
            " 14  opp_id         126314 non-null  object \n",
            " 15  opp_fran       126314 non-null  object \n",
            " 16  opp_pts        126314 non-null  int64  \n",
            " 17  opp_elo_i      126314 non-null  float64\n",
            " 18  opp_elo_n      126314 non-null  float64\n",
            " 19  game_location  126314 non-null  object \n",
            " 20  game_result    126314 non-null  object \n",
            " 21  forecast       126314 non-null  float64\n",
            " 22  notes          5424 non-null    object \n",
            "dtypes: float64(6), int64(7), object(10)\n",
            "memory usage: 22.2+ MB\n"
          ],
          "name": "stdout"
        }
      ]
    },
    {
      "cell_type": "markdown",
      "metadata": {
        "id": "fjMthtVkM8fF",
        "colab_type": "text"
      },
      "source": [
        "# Showing Basics Statistics"
      ]
    },
    {
      "cell_type": "markdown",
      "metadata": {
        "id": "-8_Rm0CuNn3p",
        "colab_type": "text"
      },
      "source": [
        ".describe() to see basic descriptive statistics for all numeric columns"
      ]
    },
    {
      "cell_type": "code",
      "metadata": {
        "id": "5BV-DrOdM6y9",
        "colab_type": "code",
        "outputId": "14602067-b49a-499e-c999-1465056b08e9",
        "colab": {
          "base_uri": "https://localhost:8080/",
          "height": 317
        }
      },
      "source": [
        "nba.describe()"
      ],
      "execution_count": 0,
      "outputs": [
        {
          "output_type": "execute_result",
          "data": {
            "text/html": [
              "<div>\n",
              "<style scoped>\n",
              "    .dataframe tbody tr th:only-of-type {\n",
              "        vertical-align: middle;\n",
              "    }\n",
              "\n",
              "    .dataframe tbody tr th {\n",
              "        vertical-align: top;\n",
              "    }\n",
              "\n",
              "    .dataframe thead th {\n",
              "        text-align: right;\n",
              "    }\n",
              "</style>\n",
              "<table border=\"1\" class=\"dataframe\">\n",
              "  <thead>\n",
              "    <tr style=\"text-align: right;\">\n",
              "      <th></th>\n",
              "      <th>gameorder</th>\n",
              "      <th>_iscopy</th>\n",
              "      <th>year_id</th>\n",
              "      <th>seasongame</th>\n",
              "      <th>is_playoffs</th>\n",
              "      <th>pts</th>\n",
              "      <th>elo_i</th>\n",
              "      <th>elo_n</th>\n",
              "      <th>win_equiv</th>\n",
              "      <th>opp_pts</th>\n",
              "      <th>opp_elo_i</th>\n",
              "      <th>opp_elo_n</th>\n",
              "      <th>forecast</th>\n",
              "    </tr>\n",
              "  </thead>\n",
              "  <tbody>\n",
              "    <tr>\n",
              "      <th>count</th>\n",
              "      <td>126314.00</td>\n",
              "      <td>126314.0</td>\n",
              "      <td>126314.00</td>\n",
              "      <td>126314.00</td>\n",
              "      <td>126314.00</td>\n",
              "      <td>126314.00</td>\n",
              "      <td>126314.00</td>\n",
              "      <td>126314.00</td>\n",
              "      <td>126314.00</td>\n",
              "      <td>126314.00</td>\n",
              "      <td>126314.00</td>\n",
              "      <td>126314.00</td>\n",
              "      <td>126314.00</td>\n",
              "    </tr>\n",
              "    <tr>\n",
              "      <th>mean</th>\n",
              "      <td>31579.00</td>\n",
              "      <td>0.5</td>\n",
              "      <td>1988.20</td>\n",
              "      <td>43.53</td>\n",
              "      <td>0.06</td>\n",
              "      <td>102.73</td>\n",
              "      <td>1495.24</td>\n",
              "      <td>1495.24</td>\n",
              "      <td>41.71</td>\n",
              "      <td>102.73</td>\n",
              "      <td>1495.24</td>\n",
              "      <td>1495.24</td>\n",
              "      <td>0.50</td>\n",
              "    </tr>\n",
              "    <tr>\n",
              "      <th>std</th>\n",
              "      <td>18231.93</td>\n",
              "      <td>0.5</td>\n",
              "      <td>17.58</td>\n",
              "      <td>25.38</td>\n",
              "      <td>0.24</td>\n",
              "      <td>14.81</td>\n",
              "      <td>112.14</td>\n",
              "      <td>112.46</td>\n",
              "      <td>10.63</td>\n",
              "      <td>14.81</td>\n",
              "      <td>112.14</td>\n",
              "      <td>112.46</td>\n",
              "      <td>0.22</td>\n",
              "    </tr>\n",
              "    <tr>\n",
              "      <th>min</th>\n",
              "      <td>1.00</td>\n",
              "      <td>0.0</td>\n",
              "      <td>1947.00</td>\n",
              "      <td>1.00</td>\n",
              "      <td>0.00</td>\n",
              "      <td>0.00</td>\n",
              "      <td>1091.64</td>\n",
              "      <td>1085.77</td>\n",
              "      <td>10.15</td>\n",
              "      <td>0.00</td>\n",
              "      <td>1091.64</td>\n",
              "      <td>1085.77</td>\n",
              "      <td>0.02</td>\n",
              "    </tr>\n",
              "    <tr>\n",
              "      <th>25%</th>\n",
              "      <td>15790.00</td>\n",
              "      <td>0.0</td>\n",
              "      <td>1975.00</td>\n",
              "      <td>22.00</td>\n",
              "      <td>0.00</td>\n",
              "      <td>93.00</td>\n",
              "      <td>1417.24</td>\n",
              "      <td>1416.99</td>\n",
              "      <td>34.10</td>\n",
              "      <td>93.00</td>\n",
              "      <td>1417.24</td>\n",
              "      <td>1416.99</td>\n",
              "      <td>0.33</td>\n",
              "    </tr>\n",
              "    <tr>\n",
              "      <th>50%</th>\n",
              "      <td>31579.00</td>\n",
              "      <td>0.5</td>\n",
              "      <td>1990.00</td>\n",
              "      <td>43.00</td>\n",
              "      <td>0.00</td>\n",
              "      <td>103.00</td>\n",
              "      <td>1500.95</td>\n",
              "      <td>1500.95</td>\n",
              "      <td>42.11</td>\n",
              "      <td>103.00</td>\n",
              "      <td>1500.95</td>\n",
              "      <td>1500.95</td>\n",
              "      <td>0.50</td>\n",
              "    </tr>\n",
              "    <tr>\n",
              "      <th>75%</th>\n",
              "      <td>47368.00</td>\n",
              "      <td>1.0</td>\n",
              "      <td>2003.00</td>\n",
              "      <td>65.00</td>\n",
              "      <td>0.00</td>\n",
              "      <td>112.00</td>\n",
              "      <td>1576.06</td>\n",
              "      <td>1576.29</td>\n",
              "      <td>49.64</td>\n",
              "      <td>112.00</td>\n",
              "      <td>1576.06</td>\n",
              "      <td>1576.29</td>\n",
              "      <td>0.67</td>\n",
              "    </tr>\n",
              "    <tr>\n",
              "      <th>max</th>\n",
              "      <td>63157.00</td>\n",
              "      <td>1.0</td>\n",
              "      <td>2015.00</td>\n",
              "      <td>108.00</td>\n",
              "      <td>1.00</td>\n",
              "      <td>186.00</td>\n",
              "      <td>1853.10</td>\n",
              "      <td>1853.10</td>\n",
              "      <td>71.11</td>\n",
              "      <td>186.00</td>\n",
              "      <td>1853.10</td>\n",
              "      <td>1853.10</td>\n",
              "      <td>0.98</td>\n",
              "    </tr>\n",
              "  </tbody>\n",
              "</table>\n",
              "</div>"
            ],
            "text/plain": [
              "       gameorder   _iscopy    year_id  seasongame  is_playoffs        pts  \\\n",
              "count  126314.00  126314.0  126314.00   126314.00    126314.00  126314.00   \n",
              "mean    31579.00       0.5    1988.20       43.53         0.06     102.73   \n",
              "std     18231.93       0.5      17.58       25.38         0.24      14.81   \n",
              "min         1.00       0.0    1947.00        1.00         0.00       0.00   \n",
              "25%     15790.00       0.0    1975.00       22.00         0.00      93.00   \n",
              "50%     31579.00       0.5    1990.00       43.00         0.00     103.00   \n",
              "75%     47368.00       1.0    2003.00       65.00         0.00     112.00   \n",
              "max     63157.00       1.0    2015.00      108.00         1.00     186.00   \n",
              "\n",
              "           elo_i      elo_n  win_equiv    opp_pts  opp_elo_i  opp_elo_n  \\\n",
              "count  126314.00  126314.00  126314.00  126314.00  126314.00  126314.00   \n",
              "mean     1495.24    1495.24      41.71     102.73    1495.24    1495.24   \n",
              "std       112.14     112.46      10.63      14.81     112.14     112.46   \n",
              "min      1091.64    1085.77      10.15       0.00    1091.64    1085.77   \n",
              "25%      1417.24    1416.99      34.10      93.00    1417.24    1416.99   \n",
              "50%      1500.95    1500.95      42.11     103.00    1500.95    1500.95   \n",
              "75%      1576.06    1576.29      49.64     112.00    1576.06    1576.29   \n",
              "max      1853.10    1853.10      71.11     186.00    1853.10    1853.10   \n",
              "\n",
              "        forecast  \n",
              "count  126314.00  \n",
              "mean        0.50  \n",
              "std         0.22  \n",
              "min         0.02  \n",
              "25%         0.33  \n",
              "50%         0.50  \n",
              "75%         0.67  \n",
              "max         0.98  "
            ]
          },
          "metadata": {
            "tags": []
          },
          "execution_count": 147
        }
      ]
    },
    {
      "cell_type": "markdown",
      "metadata": {
        "id": "_hNTdCpD5p1M",
        "colab_type": "text"
      },
      "source": [
        ".describe() only analyzes numeric columns by default, but you can provide other data types if you use the include parameter:"
      ]
    },
    {
      "cell_type": "code",
      "metadata": {
        "id": "9o0pyF5gNmTd",
        "colab_type": "code",
        "outputId": "cf690af5-0ba8-467a-b59a-3d6afb511595",
        "colab": {
          "base_uri": "https://localhost:8080/",
          "height": 244
        }
      },
      "source": [
        "import numpy as np\n",
        "nba.describe(include=np.object)"
      ],
      "execution_count": 0,
      "outputs": [
        {
          "output_type": "execute_result",
          "data": {
            "text/html": [
              "<div>\n",
              "<style scoped>\n",
              "    .dataframe tbody tr th:only-of-type {\n",
              "        vertical-align: middle;\n",
              "    }\n",
              "\n",
              "    .dataframe tbody tr th {\n",
              "        vertical-align: top;\n",
              "    }\n",
              "\n",
              "    .dataframe thead th {\n",
              "        text-align: right;\n",
              "    }\n",
              "</style>\n",
              "<table border=\"1\" class=\"dataframe\">\n",
              "  <thead>\n",
              "    <tr style=\"text-align: right;\">\n",
              "      <th></th>\n",
              "      <th>game_id</th>\n",
              "      <th>lg_id</th>\n",
              "      <th>date_game</th>\n",
              "      <th>team_id</th>\n",
              "      <th>fran_id</th>\n",
              "      <th>opp_id</th>\n",
              "      <th>opp_fran</th>\n",
              "      <th>game_location</th>\n",
              "      <th>game_result</th>\n",
              "      <th>notes</th>\n",
              "    </tr>\n",
              "  </thead>\n",
              "  <tbody>\n",
              "    <tr>\n",
              "      <th>count</th>\n",
              "      <td>126314</td>\n",
              "      <td>126314</td>\n",
              "      <td>126314</td>\n",
              "      <td>126314</td>\n",
              "      <td>126314</td>\n",
              "      <td>126314</td>\n",
              "      <td>126314</td>\n",
              "      <td>126314</td>\n",
              "      <td>126314</td>\n",
              "      <td>5424</td>\n",
              "    </tr>\n",
              "    <tr>\n",
              "      <th>unique</th>\n",
              "      <td>63157</td>\n",
              "      <td>2</td>\n",
              "      <td>12426</td>\n",
              "      <td>104</td>\n",
              "      <td>53</td>\n",
              "      <td>104</td>\n",
              "      <td>53</td>\n",
              "      <td>3</td>\n",
              "      <td>2</td>\n",
              "      <td>231</td>\n",
              "    </tr>\n",
              "    <tr>\n",
              "      <th>top</th>\n",
              "      <td>197004190WSA</td>\n",
              "      <td>NBA</td>\n",
              "      <td>1/2/2009</td>\n",
              "      <td>BOS</td>\n",
              "      <td>Lakers</td>\n",
              "      <td>BOS</td>\n",
              "      <td>Lakers</td>\n",
              "      <td>A</td>\n",
              "      <td>W</td>\n",
              "      <td>at New York NY</td>\n",
              "    </tr>\n",
              "    <tr>\n",
              "      <th>freq</th>\n",
              "      <td>2</td>\n",
              "      <td>118016</td>\n",
              "      <td>30</td>\n",
              "      <td>5997</td>\n",
              "      <td>6024</td>\n",
              "      <td>5997</td>\n",
              "      <td>6024</td>\n",
              "      <td>63138</td>\n",
              "      <td>63157</td>\n",
              "      <td>440</td>\n",
              "    </tr>\n",
              "  </tbody>\n",
              "</table>\n",
              "</div>"
            ],
            "text/plain": [
              "             game_id   lg_id date_game team_id fran_id  opp_id opp_fran  \\\n",
              "count         126314  126314    126314  126314  126314  126314   126314   \n",
              "unique         63157       2     12426     104      53     104       53   \n",
              "top     197004190WSA     NBA  1/2/2009     BOS  Lakers     BOS   Lakers   \n",
              "freq               2  118016        30    5997    6024    5997     6024   \n",
              "\n",
              "       game_location game_result           notes  \n",
              "count         126314      126314            5424  \n",
              "unique             3           2             231  \n",
              "top                A           W  at New York NY  \n",
              "freq           63138       63157             440  "
            ]
          },
          "metadata": {
            "tags": []
          },
          "execution_count": 148
        }
      ]
    },
    {
      "cell_type": "markdown",
      "metadata": {
        "id": "DfQvMTDbOnMK",
        "colab_type": "text"
      },
      "source": [
        "Take a look at the team_id and fran_id columns. Your dataset contains 104 different team IDs, but only 53 different franchise IDs. Furthermore, the most frequent team ID is BOS, but the most frequent franchise ID Lakers. How is that possible? You’ll need to explore your dataset a bit more to answer this question.\n"
      ]
    },
    {
      "cell_type": "markdown",
      "metadata": {
        "id": "nvb7geio6KPO",
        "colab_type": "text"
      },
      "source": [
        "# Exploring Your Dataset"
      ]
    },
    {
      "cell_type": "code",
      "metadata": {
        "id": "04eKqjfKdRNn",
        "colab_type": "code",
        "outputId": "dd4bdbab-64f5-422c-e77b-15b36686eae8",
        "colab": {
          "base_uri": "https://localhost:8080/",
          "height": 221
        }
      },
      "source": [
        "nba[\"team_id\"].value_counts()"
      ],
      "execution_count": 0,
      "outputs": [
        {
          "output_type": "execute_result",
          "data": {
            "text/plain": [
              "BOS    5997\n",
              "NYK    5769\n",
              "LAL    5078\n",
              "DET    4985\n",
              "PHI    4533\n",
              "       ... \n",
              "DTF      60\n",
              "TRH      60\n",
              "PIT      60\n",
              "INJ      60\n",
              "SDS      11\n",
              "Name: team_id, Length: 104, dtype: int64"
            ]
          },
          "metadata": {
            "tags": []
          },
          "execution_count": 149
        }
      ]
    },
    {
      "cell_type": "code",
      "metadata": {
        "id": "5cL2Lh8pdfiT",
        "colab_type": "code",
        "outputId": "5e428149-d666-46f4-b347-ee9fa1b7f3c7",
        "colab": {
          "base_uri": "https://localhost:8080/",
          "height": 935
        }
      },
      "source": [
        "nba[\"fran_id\"].value_counts()"
      ],
      "execution_count": 0,
      "outputs": [
        {
          "output_type": "execute_result",
          "data": {
            "text/plain": [
              "Lakers          6024\n",
              "Celtics         5997\n",
              "Knicks          5769\n",
              "Warriors        5657\n",
              "Pistons         5650\n",
              "Sixers          5644\n",
              "Hawks           5572\n",
              "Kings           5475\n",
              "Wizards         4582\n",
              "Spurs           4309\n",
              "Bulls           4307\n",
              "Pacers          4227\n",
              "Thunder         4178\n",
              "Rockets         4154\n",
              "Nuggets         4120\n",
              "Nets            4106\n",
              "Suns            4080\n",
              "Bucks           4034\n",
              "Trailblazers    3870\n",
              "Cavaliers       3810\n",
              "Clippers        3733\n",
              "Jazz            3555\n",
              "Mavericks       3013\n",
              "Heat            2371\n",
              "Pelicans        2254\n",
              "Magic           2207\n",
              "Timberwolves    2131\n",
              "Grizzlies       1657\n",
              "Raptors         1634\n",
              "Hornets          894\n",
              "Colonels         846\n",
              "Squires          799\n",
              "Spirits          777\n",
              "Stars            756\n",
              "Sounds           697\n",
              "Baltimore        467\n",
              "Floridians       440\n",
              "Condors          430\n",
              "Capitols         291\n",
              "Olympians        282\n",
              "Sails            274\n",
              "Stags            260\n",
              "Bombers          249\n",
              "Steamrollers     168\n",
              "Packers           72\n",
              "Redskins          65\n",
              "Rebels            63\n",
              "Denver            62\n",
              "Waterloo          62\n",
              "Ironmen           60\n",
              "Huskies           60\n",
              "Jets              60\n",
              "Falcons           60\n",
              "Name: fran_id, dtype: int64"
            ]
          },
          "metadata": {
            "tags": []
          },
          "execution_count": 150
        }
      ]
    },
    {
      "cell_type": "markdown",
      "metadata": {
        "id": "ifRzC-cq66xE",
        "colab_type": "text"
      },
      "source": [
        "It seems that a team named \"Lakers\" played 6024 games, but only 5078 of those were played by the Los Angeles Lakers. Find out who the other \"Lakers\" team is:"
      ]
    },
    {
      "cell_type": "markdown",
      "metadata": {
        "id": "Hkw45GRsexFD",
        "colab_type": "text"
      },
      "source": [
        "DataFrame.loc¶\n",
        "Access a group of rows and columns by label(s) or a boolean array.\n",
        "\n",
        ".loc[] is primarily label based, but may also be used with a boolean array."
      ]
    },
    {
      "cell_type": "code",
      "metadata": {
        "id": "yZXou4cceyog",
        "colab_type": "code",
        "outputId": "cc6e1fb8-eb2c-4ef4-83a6-cbcb15cab586",
        "colab": {
          "base_uri": "https://localhost:8080/",
          "height": 68
        }
      },
      "source": [
        "nba.loc[nba[\"fran_id\"]==\"Lakers\", \"team_id\"].value_counts()"
      ],
      "execution_count": 0,
      "outputs": [
        {
          "output_type": "execute_result",
          "data": {
            "text/plain": [
              "LAL    5078\n",
              "MNL     946\n",
              "Name: team_id, dtype: int64"
            ]
          },
          "metadata": {
            "tags": []
          },
          "execution_count": 151
        }
      ]
    },
    {
      "cell_type": "code",
      "metadata": {
        "id": "M7JZlwY1fKEw",
        "colab_type": "code",
        "outputId": "28465f5c-d93e-470b-f14b-f187e2f76760",
        "colab": {
          "base_uri": "https://localhost:8080/",
          "height": 34
        }
      },
      "source": [
        "nba.loc[nba[\"team_id\"]==\"MNL\", \"date_game\"].min()"
      ],
      "execution_count": 0,
      "outputs": [
        {
          "output_type": "execute_result",
          "data": {
            "text/plain": [
              "'1/1/1949'"
            ]
          },
          "metadata": {
            "tags": []
          },
          "execution_count": 152
        }
      ]
    },
    {
      "cell_type": "code",
      "metadata": {
        "id": "RoHJ2Do7fi8w",
        "colab_type": "code",
        "outputId": "1495a26a-399f-4278-96d3-a033d3a99a71",
        "colab": {
          "base_uri": "https://localhost:8080/",
          "height": 34
        }
      },
      "source": [
        "nba.loc[nba[\"team_id\"]==\"MNL\",\"date_game\"].max()"
      ],
      "execution_count": 0,
      "outputs": [
        {
          "output_type": "execute_result",
          "data": {
            "text/plain": [
              "'4/9/1959'"
            ]
          },
          "metadata": {
            "tags": []
          },
          "execution_count": 153
        }
      ]
    },
    {
      "cell_type": "markdown",
      "metadata": {
        "id": "ZfXMlESpijaL",
        "colab_type": "text"
      },
      "source": [
        "DataFrame.agg(self, func, axis=0, *args, **kwargs)[source]\n",
        "Aggregate using one or more operations over the specified axis."
      ]
    },
    {
      "cell_type": "code",
      "metadata": {
        "id": "-5-zlkR7fe8P",
        "colab_type": "code",
        "outputId": "77c36c7f-b750-4753-d016-193271f605fb",
        "colab": {
          "base_uri": "https://localhost:8080/",
          "height": 68
        }
      },
      "source": [
        "nba.loc[nba[\"team_id\"] == \"MNL\", \"date_game\"].agg((\"min\",\"max\"))"
      ],
      "execution_count": 0,
      "outputs": [
        {
          "output_type": "execute_result",
          "data": {
            "text/plain": [
              "min    1/1/1949\n",
              "max    4/9/1959\n",
              "Name: date_game, dtype: object"
            ]
          },
          "metadata": {
            "tags": []
          },
          "execution_count": 154
        }
      ]
    },
    {
      "cell_type": "markdown",
      "metadata": {
        "id": "NEnMflXRi6bl",
        "colab_type": "text"
      },
      "source": [
        "It looks like the Minneapolis Lakers played between the years of 1949 and 1959. That explains why you might not recognize this team!"
      ]
    },
    {
      "cell_type": "markdown",
      "metadata": {
        "id": "wR4PHRgJkSTx",
        "colab_type": "text"
      },
      "source": [
        "### How many points the Boston Celtics have scored during all matches contained in this dataset?\n"
      ]
    },
    {
      "cell_type": "code",
      "metadata": {
        "id": "7CbpI09g9ACr",
        "colab_type": "code",
        "outputId": "53a6d316-0749-4e2c-bb1f-62dcc4d91ebb",
        "colab": {
          "base_uri": "https://localhost:8080/",
          "height": 34
        }
      },
      "source": [
        "nba.loc[nba[\"fran_id\"]==\"Celtics\", \"pts\"].sum()"
      ],
      "execution_count": 0,
      "outputs": [
        {
          "output_type": "execute_result",
          "data": {
            "text/plain": [
              "626484"
            ]
          },
          "metadata": {
            "tags": []
          },
          "execution_count": 155
        }
      ]
    },
    {
      "cell_type": "code",
      "metadata": {
        "id": "DfLWlJkmiewP",
        "colab_type": "code",
        "outputId": "efc99a59-18e5-4298-ea0f-e9b2aa348317",
        "colab": {
          "base_uri": "https://localhost:8080/",
          "height": 34
        }
      },
      "source": [
        "nba.loc[nba[\"fran_id\"]==\"Celtics\", \"pts\"].agg(sum)"
      ],
      "execution_count": 0,
      "outputs": [
        {
          "output_type": "execute_result",
          "data": {
            "text/plain": [
              "626484"
            ]
          },
          "metadata": {
            "tags": []
          },
          "execution_count": 156
        }
      ]
    },
    {
      "cell_type": "code",
      "metadata": {
        "id": "g555pRnBEVfr",
        "colab_type": "code",
        "outputId": "50ac28ed-d92c-4b78-91d5-5fbb9b589301",
        "colab": {
          "base_uri": "https://localhost:8080/",
          "height": 139
        }
      },
      "source": [
        "nba.axes"
      ],
      "execution_count": 0,
      "outputs": [
        {
          "output_type": "execute_result",
          "data": {
            "text/plain": [
              "[RangeIndex(start=0, stop=126314, step=1),\n",
              " Index(['gameorder', 'game_id', 'lg_id', '_iscopy', 'year_id', 'date_game',\n",
              "        'seasongame', 'is_playoffs', 'team_id', 'fran_id', 'pts', 'elo_i',\n",
              "        'elo_n', 'win_equiv', 'opp_id', 'opp_fran', 'opp_pts', 'opp_elo_i',\n",
              "        'opp_elo_n', 'game_location', 'game_result', 'forecast', 'notes'],\n",
              "       dtype='object')]"
            ]
          },
          "metadata": {
            "tags": []
          },
          "execution_count": 157
        }
      ]
    },
    {
      "cell_type": "code",
      "metadata": {
        "id": "MOkblIHrEWd_",
        "colab_type": "code",
        "outputId": "1a8c09c8-eb9b-428e-9ac8-b02252aea8df",
        "colab": {
          "base_uri": "https://localhost:8080/",
          "height": 34
        }
      },
      "source": [
        " \"points\" in nba.keys()"
      ],
      "execution_count": 0,
      "outputs": [
        {
          "output_type": "execute_result",
          "data": {
            "text/plain": [
              "False"
            ]
          },
          "metadata": {
            "tags": []
          },
          "execution_count": 158
        }
      ]
    },
    {
      "cell_type": "code",
      "metadata": {
        "id": "mTKPJsG6EkFw",
        "colab_type": "code",
        "outputId": "ee5473ee-73e6-4a47-e6ec-54b82a3894af",
        "colab": {
          "base_uri": "https://localhost:8080/",
          "height": 34
        }
      },
      "source": [
        "\"pts\" in nba.keys()"
      ],
      "execution_count": 0,
      "outputs": [
        {
          "output_type": "execute_result",
          "data": {
            "text/plain": [
              "True"
            ]
          },
          "metadata": {
            "tags": []
          },
          "execution_count": 159
        }
      ]
    },
    {
      "cell_type": "code",
      "metadata": {
        "id": "QORyjG6pEmVy",
        "colab_type": "code",
        "outputId": "9d05d000-da39-4d8e-ee39-8d3cfa3e2f1a",
        "colab": {
          "base_uri": "https://localhost:8080/",
          "height": 153
        }
      },
      "source": [
        "nba.values"
      ],
      "execution_count": 0,
      "outputs": [
        {
          "output_type": "execute_result",
          "data": {
            "text/plain": [
              "array([[1, '194611010TRH', 'NBA', ..., 'L', 0.64006501, nan],\n",
              "       [1, '194611010TRH', 'NBA', ..., 'W', 0.35993499, nan],\n",
              "       [2, '194611020CHS', 'NBA', ..., 'W', 0.63110125, nan],\n",
              "       ...,\n",
              "       [63156, '201506140GSW', 'NBA', ..., 'L', 0.2344346, nan],\n",
              "       [63157, '201506170CLE', 'NBA', ..., 'L', 0.48145005, nan],\n",
              "       [63157, '201506170CLE', 'NBA', ..., 'W', 0.51854992, nan]],\n",
              "      dtype=object)"
            ]
          },
          "metadata": {
            "tags": []
          },
          "execution_count": 160
        }
      ]
    },
    {
      "cell_type": "code",
      "metadata": {
        "id": "0B7_wFtmErw8",
        "colab_type": "code",
        "outputId": "6b91c3cd-90ba-40e8-d458-3cd0876142d0",
        "colab": {
          "base_uri": "https://localhost:8080/",
          "height": 34
        }
      },
      "source": [
        "nba.index"
      ],
      "execution_count": 0,
      "outputs": [
        {
          "output_type": "execute_result",
          "data": {
            "text/plain": [
              "RangeIndex(start=0, stop=126314, step=1)"
            ]
          },
          "metadata": {
            "tags": []
          },
          "execution_count": 161
        }
      ]
    },
    {
      "cell_type": "markdown",
      "metadata": {
        "id": "4MAYhQnYF3Ge",
        "colab_type": "text"
      },
      "source": [
        "## Querying Your Dataset"
      ]
    },
    {
      "cell_type": "markdown",
      "metadata": {
        "id": "GtK34yILF8pE",
        "colab_type": "text"
      },
      "source": [
        "Now, you’ll select rows based on the values in your dataset’s columns to query your data. For example, you can create a new DataFrame that contains only games played after 2010:\n"
      ]
    },
    {
      "cell_type": "markdown",
      "metadata": {
        "id": "QsBBZjcgvwDt",
        "colab_type": "text"
      },
      "source": [
        "What is the DataFrame that contains only games played after 2010?"
      ]
    },
    {
      "cell_type": "markdown",
      "metadata": {
        "id": "LJirJQ0xwjv1",
        "colab_type": "text"
      },
      "source": [
        "You still have all 23 columns, but your new DataFrame only consists of rows where the value in the \"year_id\" column is greater than 2010."
      ]
    },
    {
      "cell_type": "code",
      "metadata": {
        "id": "AcLf29IhEs6M",
        "colab_type": "code",
        "outputId": "6bf75267-0823-4b6d-ad29-83d3e87745af",
        "colab": {
          "base_uri": "https://localhost:8080/",
          "height": 224
        }
      },
      "source": [
        "nba.head()"
      ],
      "execution_count": 0,
      "outputs": [
        {
          "output_type": "execute_result",
          "data": {
            "text/html": [
              "<div>\n",
              "<style scoped>\n",
              "    .dataframe tbody tr th:only-of-type {\n",
              "        vertical-align: middle;\n",
              "    }\n",
              "\n",
              "    .dataframe tbody tr th {\n",
              "        vertical-align: top;\n",
              "    }\n",
              "\n",
              "    .dataframe thead th {\n",
              "        text-align: right;\n",
              "    }\n",
              "</style>\n",
              "<table border=\"1\" class=\"dataframe\">\n",
              "  <thead>\n",
              "    <tr style=\"text-align: right;\">\n",
              "      <th></th>\n",
              "      <th>gameorder</th>\n",
              "      <th>game_id</th>\n",
              "      <th>lg_id</th>\n",
              "      <th>_iscopy</th>\n",
              "      <th>year_id</th>\n",
              "      <th>date_game</th>\n",
              "      <th>seasongame</th>\n",
              "      <th>is_playoffs</th>\n",
              "      <th>team_id</th>\n",
              "      <th>fran_id</th>\n",
              "      <th>pts</th>\n",
              "      <th>elo_i</th>\n",
              "      <th>elo_n</th>\n",
              "      <th>win_equiv</th>\n",
              "      <th>opp_id</th>\n",
              "      <th>opp_fran</th>\n",
              "      <th>opp_pts</th>\n",
              "      <th>opp_elo_i</th>\n",
              "      <th>opp_elo_n</th>\n",
              "      <th>game_location</th>\n",
              "      <th>game_result</th>\n",
              "      <th>forecast</th>\n",
              "      <th>notes</th>\n",
              "    </tr>\n",
              "  </thead>\n",
              "  <tbody>\n",
              "    <tr>\n",
              "      <th>0</th>\n",
              "      <td>1</td>\n",
              "      <td>194611010TRH</td>\n",
              "      <td>NBA</td>\n",
              "      <td>0</td>\n",
              "      <td>1947</td>\n",
              "      <td>11/1/1946</td>\n",
              "      <td>1</td>\n",
              "      <td>0</td>\n",
              "      <td>TRH</td>\n",
              "      <td>Huskies</td>\n",
              "      <td>66</td>\n",
              "      <td>1300.00</td>\n",
              "      <td>1293.28</td>\n",
              "      <td>40.29</td>\n",
              "      <td>NYK</td>\n",
              "      <td>Knicks</td>\n",
              "      <td>68</td>\n",
              "      <td>1300.00</td>\n",
              "      <td>1306.72</td>\n",
              "      <td>H</td>\n",
              "      <td>L</td>\n",
              "      <td>0.64</td>\n",
              "      <td>NaN</td>\n",
              "    </tr>\n",
              "    <tr>\n",
              "      <th>1</th>\n",
              "      <td>1</td>\n",
              "      <td>194611010TRH</td>\n",
              "      <td>NBA</td>\n",
              "      <td>1</td>\n",
              "      <td>1947</td>\n",
              "      <td>11/1/1946</td>\n",
              "      <td>1</td>\n",
              "      <td>0</td>\n",
              "      <td>NYK</td>\n",
              "      <td>Knicks</td>\n",
              "      <td>68</td>\n",
              "      <td>1300.00</td>\n",
              "      <td>1306.72</td>\n",
              "      <td>41.71</td>\n",
              "      <td>TRH</td>\n",
              "      <td>Huskies</td>\n",
              "      <td>66</td>\n",
              "      <td>1300.00</td>\n",
              "      <td>1293.28</td>\n",
              "      <td>A</td>\n",
              "      <td>W</td>\n",
              "      <td>0.36</td>\n",
              "      <td>NaN</td>\n",
              "    </tr>\n",
              "    <tr>\n",
              "      <th>2</th>\n",
              "      <td>2</td>\n",
              "      <td>194611020CHS</td>\n",
              "      <td>NBA</td>\n",
              "      <td>0</td>\n",
              "      <td>1947</td>\n",
              "      <td>11/2/1946</td>\n",
              "      <td>1</td>\n",
              "      <td>0</td>\n",
              "      <td>CHS</td>\n",
              "      <td>Stags</td>\n",
              "      <td>63</td>\n",
              "      <td>1300.00</td>\n",
              "      <td>1309.65</td>\n",
              "      <td>42.01</td>\n",
              "      <td>NYK</td>\n",
              "      <td>Knicks</td>\n",
              "      <td>47</td>\n",
              "      <td>1306.72</td>\n",
              "      <td>1297.07</td>\n",
              "      <td>H</td>\n",
              "      <td>W</td>\n",
              "      <td>0.63</td>\n",
              "      <td>NaN</td>\n",
              "    </tr>\n",
              "    <tr>\n",
              "      <th>3</th>\n",
              "      <td>2</td>\n",
              "      <td>194611020CHS</td>\n",
              "      <td>NBA</td>\n",
              "      <td>1</td>\n",
              "      <td>1947</td>\n",
              "      <td>11/2/1946</td>\n",
              "      <td>2</td>\n",
              "      <td>0</td>\n",
              "      <td>NYK</td>\n",
              "      <td>Knicks</td>\n",
              "      <td>47</td>\n",
              "      <td>1306.72</td>\n",
              "      <td>1297.07</td>\n",
              "      <td>40.69</td>\n",
              "      <td>CHS</td>\n",
              "      <td>Stags</td>\n",
              "      <td>63</td>\n",
              "      <td>1300.00</td>\n",
              "      <td>1309.65</td>\n",
              "      <td>A</td>\n",
              "      <td>L</td>\n",
              "      <td>0.37</td>\n",
              "      <td>NaN</td>\n",
              "    </tr>\n",
              "    <tr>\n",
              "      <th>4</th>\n",
              "      <td>3</td>\n",
              "      <td>194611020DTF</td>\n",
              "      <td>NBA</td>\n",
              "      <td>0</td>\n",
              "      <td>1947</td>\n",
              "      <td>11/2/1946</td>\n",
              "      <td>1</td>\n",
              "      <td>0</td>\n",
              "      <td>DTF</td>\n",
              "      <td>Falcons</td>\n",
              "      <td>33</td>\n",
              "      <td>1300.00</td>\n",
              "      <td>1279.62</td>\n",
              "      <td>38.86</td>\n",
              "      <td>WSC</td>\n",
              "      <td>Capitols</td>\n",
              "      <td>50</td>\n",
              "      <td>1300.00</td>\n",
              "      <td>1320.38</td>\n",
              "      <td>H</td>\n",
              "      <td>L</td>\n",
              "      <td>0.64</td>\n",
              "      <td>NaN</td>\n",
              "    </tr>\n",
              "  </tbody>\n",
              "</table>\n",
              "</div>"
            ],
            "text/plain": [
              "   gameorder       game_id lg_id  _iscopy  year_id  date_game  seasongame  \\\n",
              "0          1  194611010TRH   NBA        0     1947  11/1/1946           1   \n",
              "1          1  194611010TRH   NBA        1     1947  11/1/1946           1   \n",
              "2          2  194611020CHS   NBA        0     1947  11/2/1946           1   \n",
              "3          2  194611020CHS   NBA        1     1947  11/2/1946           2   \n",
              "4          3  194611020DTF   NBA        0     1947  11/2/1946           1   \n",
              "\n",
              "   is_playoffs team_id  fran_id  pts    elo_i    elo_n  win_equiv opp_id  \\\n",
              "0            0     TRH  Huskies   66  1300.00  1293.28      40.29    NYK   \n",
              "1            0     NYK   Knicks   68  1300.00  1306.72      41.71    TRH   \n",
              "2            0     CHS    Stags   63  1300.00  1309.65      42.01    NYK   \n",
              "3            0     NYK   Knicks   47  1306.72  1297.07      40.69    CHS   \n",
              "4            0     DTF  Falcons   33  1300.00  1279.62      38.86    WSC   \n",
              "\n",
              "   opp_fran  opp_pts  opp_elo_i  opp_elo_n game_location game_result  \\\n",
              "0    Knicks       68    1300.00    1306.72             H           L   \n",
              "1   Huskies       66    1300.00    1293.28             A           W   \n",
              "2    Knicks       47    1306.72    1297.07             H           W   \n",
              "3     Stags       63    1300.00    1309.65             A           L   \n",
              "4  Capitols       50    1300.00    1320.38             H           L   \n",
              "\n",
              "   forecast notes  \n",
              "0      0.64   NaN  \n",
              "1      0.36   NaN  \n",
              "2      0.63   NaN  \n",
              "3      0.37   NaN  \n",
              "4      0.64   NaN  "
            ]
          },
          "metadata": {
            "tags": []
          },
          "execution_count": 162
        }
      ]
    },
    {
      "cell_type": "code",
      "metadata": {
        "id": "pVNoeKDNwb4y",
        "colab_type": "code",
        "outputId": "de2aad9c-603f-40f0-9046-a143bc1b663e",
        "colab": {
          "base_uri": "https://localhost:8080/",
          "height": 34
        }
      },
      "source": [
        "nba.shape"
      ],
      "execution_count": 0,
      "outputs": [
        {
          "output_type": "execute_result",
          "data": {
            "text/plain": [
              "(126314, 23)"
            ]
          },
          "metadata": {
            "tags": []
          },
          "execution_count": 163
        }
      ]
    },
    {
      "cell_type": "code",
      "metadata": {
        "id": "kBBOsNNPGCOH",
        "colab_type": "code",
        "outputId": "4213c92d-6e41-4276-8451-419fa6d5e70c",
        "colab": {
          "base_uri": "https://localhost:8080/",
          "height": 34
        }
      },
      "source": [
        "after_2010 = nba[nba[\"year_id\"]>2010]\n",
        "after_2010.shape"
      ],
      "execution_count": 0,
      "outputs": [
        {
          "output_type": "execute_result",
          "data": {
            "text/plain": [
              "(12658, 23)"
            ]
          },
          "metadata": {
            "tags": []
          },
          "execution_count": 164
        }
      ]
    },
    {
      "cell_type": "markdown",
      "metadata": {
        "id": "CKX8U6Rdw5QQ",
        "colab_type": "text"
      },
      "source": [
        "You can also select the rows where a specific field is not null:"
      ]
    },
    {
      "cell_type": "code",
      "metadata": {
        "id": "M0MKtB0jwauc",
        "colab_type": "code",
        "outputId": "40510aa8-8acd-428c-8a5d-9d0093045a33",
        "colab": {
          "base_uri": "https://localhost:8080/",
          "height": 34
        }
      },
      "source": [
        "game_with_notes = nba[nba[\"notes\"].notnull()]\n",
        "game_with_notes.shape"
      ],
      "execution_count": 0,
      "outputs": [
        {
          "output_type": "execute_result",
          "data": {
            "text/plain": [
              "(5424, 23)"
            ]
          },
          "metadata": {
            "tags": []
          },
          "execution_count": 165
        }
      ]
    },
    {
      "cell_type": "markdown",
      "metadata": {
        "id": "nlM6v4eQw9Up",
        "colab_type": "text"
      },
      "source": [
        "This can be helpful if you want to avoid any missing values in a column. You can also use .notna() to achieve the same goal."
      ]
    },
    {
      "cell_type": "code",
      "metadata": {
        "id": "4Qk19Y0Gw3b4",
        "colab_type": "code",
        "outputId": "d8fdbf8f-52ae-4dec-b549-1de49f50715e",
        "colab": {
          "base_uri": "https://localhost:8080/",
          "height": 34
        }
      },
      "source": [
        "game_with_notes2 = nba[nba[\"notes\"].notna()]\n",
        "game_with_notes2.shape"
      ],
      "execution_count": 0,
      "outputs": [
        {
          "output_type": "execute_result",
          "data": {
            "text/plain": [
              "(5424, 23)"
            ]
          },
          "metadata": {
            "tags": []
          },
          "execution_count": 166
        }
      ]
    },
    {
      "cell_type": "markdown",
      "metadata": {
        "id": "Z9f9QlKDx4y7",
        "colab_type": "text"
      },
      "source": [
        "You use .str.endswith() to filter your dataset and find all games where the home team’s name ends with \"ers\"."
      ]
    },
    {
      "cell_type": "code",
      "metadata": {
        "id": "seSjo4PYxE_t",
        "colab_type": "code",
        "outputId": "c14b3c72-7aed-482b-b5ca-6652776cad85",
        "colab": {
          "base_uri": "https://localhost:8080/",
          "height": 34
        }
      },
      "source": [
        "fran_end_with_ers = nba[nba[\"fran_id\"].str.endswith(\"ers\")]\n",
        "fran_end_with_ers.shape"
      ],
      "execution_count": 0,
      "outputs": [
        {
          "output_type": "execute_result",
          "data": {
            "text/plain": [
              "(27797, 23)"
            ]
          },
          "metadata": {
            "tags": []
          },
          "execution_count": 167
        }
      ]
    },
    {
      "cell_type": "markdown",
      "metadata": {
        "id": "xeSUAJ4zyhNZ",
        "colab_type": "text"
      },
      "source": [
        "## How many Baltimore games where both teams scored over 100 points?"
      ]
    },
    {
      "cell_type": "code",
      "metadata": {
        "id": "_nbFCgsgzSEO",
        "colab_type": "code",
        "colab": {}
      },
      "source": [
        ""
      ],
      "execution_count": 0,
      "outputs": []
    },
    {
      "cell_type": "markdown",
      "metadata": {
        "id": "hOwNKFnGyqCh",
        "colab_type": "text"
      },
      "source": [
        "In order to see each game only once, you’ll need to exclude duplicates:"
      ]
    },
    {
      "cell_type": "code",
      "metadata": {
        "id": "oaQUYOsWxXdI",
        "colab_type": "code",
        "outputId": "f67b6da9-d196-4823-ba95-884a11ee8dda",
        "colab": {
          "base_uri": "https://localhost:8080/",
          "height": 275
        }
      },
      "source": [
        "nba[(nba[\"_iscopy\"]==0) & (nba[\"pts\"] > 100) & (nba[\"opp_pts\"] > 100) & (nba[\"team_id\"]==\"BLB\")]"
      ],
      "execution_count": 0,
      "outputs": [
        {
          "output_type": "execute_result",
          "data": {
            "text/html": [
              "<div>\n",
              "<style scoped>\n",
              "    .dataframe tbody tr th:only-of-type {\n",
              "        vertical-align: middle;\n",
              "    }\n",
              "\n",
              "    .dataframe tbody tr th {\n",
              "        vertical-align: top;\n",
              "    }\n",
              "\n",
              "    .dataframe thead th {\n",
              "        text-align: right;\n",
              "    }\n",
              "</style>\n",
              "<table border=\"1\" class=\"dataframe\">\n",
              "  <thead>\n",
              "    <tr style=\"text-align: right;\">\n",
              "      <th></th>\n",
              "      <th>gameorder</th>\n",
              "      <th>game_id</th>\n",
              "      <th>lg_id</th>\n",
              "      <th>_iscopy</th>\n",
              "      <th>year_id</th>\n",
              "      <th>date_game</th>\n",
              "      <th>seasongame</th>\n",
              "      <th>is_playoffs</th>\n",
              "      <th>team_id</th>\n",
              "      <th>fran_id</th>\n",
              "      <th>pts</th>\n",
              "      <th>elo_i</th>\n",
              "      <th>elo_n</th>\n",
              "      <th>win_equiv</th>\n",
              "      <th>opp_id</th>\n",
              "      <th>opp_fran</th>\n",
              "      <th>opp_pts</th>\n",
              "      <th>opp_elo_i</th>\n",
              "      <th>opp_elo_n</th>\n",
              "      <th>game_location</th>\n",
              "      <th>game_result</th>\n",
              "      <th>forecast</th>\n",
              "      <th>notes</th>\n",
              "    </tr>\n",
              "  </thead>\n",
              "  <tbody>\n",
              "    <tr>\n",
              "      <th>1726</th>\n",
              "      <td>864</td>\n",
              "      <td>194902260BLB</td>\n",
              "      <td>NBA</td>\n",
              "      <td>0</td>\n",
              "      <td>1949</td>\n",
              "      <td>2/26/1949</td>\n",
              "      <td>53</td>\n",
              "      <td>0</td>\n",
              "      <td>BLB</td>\n",
              "      <td>Baltimore</td>\n",
              "      <td>114</td>\n",
              "      <td>1421.94</td>\n",
              "      <td>1419.43</td>\n",
              "      <td>38.56</td>\n",
              "      <td>MNL</td>\n",
              "      <td>Lakers</td>\n",
              "      <td>115</td>\n",
              "      <td>1637.99</td>\n",
              "      <td>1640.49</td>\n",
              "      <td>H</td>\n",
              "      <td>L</td>\n",
              "      <td>0.34</td>\n",
              "      <td>NaN</td>\n",
              "    </tr>\n",
              "    <tr>\n",
              "      <th>4890</th>\n",
              "      <td>2446</td>\n",
              "      <td>195301100BLB</td>\n",
              "      <td>NBA</td>\n",
              "      <td>0</td>\n",
              "      <td>1953</td>\n",
              "      <td>1/10/1953</td>\n",
              "      <td>32</td>\n",
              "      <td>0</td>\n",
              "      <td>BLB</td>\n",
              "      <td>Baltimore</td>\n",
              "      <td>126</td>\n",
              "      <td>1328.67</td>\n",
              "      <td>1356.65</td>\n",
              "      <td>25.80</td>\n",
              "      <td>BOS</td>\n",
              "      <td>Celtics</td>\n",
              "      <td>105</td>\n",
              "      <td>1591.14</td>\n",
              "      <td>1563.17</td>\n",
              "      <td>H</td>\n",
              "      <td>W</td>\n",
              "      <td>0.28</td>\n",
              "      <td>NaN</td>\n",
              "    </tr>\n",
              "    <tr>\n",
              "      <th>4909</th>\n",
              "      <td>2455</td>\n",
              "      <td>195301140BLB</td>\n",
              "      <td>NBA</td>\n",
              "      <td>0</td>\n",
              "      <td>1953</td>\n",
              "      <td>1/14/1953</td>\n",
              "      <td>34</td>\n",
              "      <td>0</td>\n",
              "      <td>BLB</td>\n",
              "      <td>Baltimore</td>\n",
              "      <td>104</td>\n",
              "      <td>1349.83</td>\n",
              "      <td>1346.36</td>\n",
              "      <td>24.88</td>\n",
              "      <td>MNL</td>\n",
              "      <td>Lakers</td>\n",
              "      <td>112</td>\n",
              "      <td>1665.44</td>\n",
              "      <td>1668.91</td>\n",
              "      <td>H</td>\n",
              "      <td>L</td>\n",
              "      <td>0.22</td>\n",
              "      <td>NaN</td>\n",
              "    </tr>\n",
              "    <tr>\n",
              "      <th>5208</th>\n",
              "      <td>2605</td>\n",
              "      <td>195303110BLB</td>\n",
              "      <td>NBA</td>\n",
              "      <td>0</td>\n",
              "      <td>1953</td>\n",
              "      <td>3/11/1953</td>\n",
              "      <td>66</td>\n",
              "      <td>0</td>\n",
              "      <td>BLB</td>\n",
              "      <td>Baltimore</td>\n",
              "      <td>107</td>\n",
              "      <td>1284.52</td>\n",
              "      <td>1282.24</td>\n",
              "      <td>19.58</td>\n",
              "      <td>NYK</td>\n",
              "      <td>Knicks</td>\n",
              "      <td>113</td>\n",
              "      <td>1649.15</td>\n",
              "      <td>1651.44</td>\n",
              "      <td>H</td>\n",
              "      <td>L</td>\n",
              "      <td>0.18</td>\n",
              "      <td>at Boston MA</td>\n",
              "    </tr>\n",
              "    <tr>\n",
              "      <th>5825</th>\n",
              "      <td>2913</td>\n",
              "      <td>195402220BLB</td>\n",
              "      <td>NBA</td>\n",
              "      <td>0</td>\n",
              "      <td>1954</td>\n",
              "      <td>2/22/1954</td>\n",
              "      <td>60</td>\n",
              "      <td>0</td>\n",
              "      <td>BLB</td>\n",
              "      <td>Baltimore</td>\n",
              "      <td>110</td>\n",
              "      <td>1303.75</td>\n",
              "      <td>1301.97</td>\n",
              "      <td>20.74</td>\n",
              "      <td>BOS</td>\n",
              "      <td>Celtics</td>\n",
              "      <td>111</td>\n",
              "      <td>1591.49</td>\n",
              "      <td>1593.27</td>\n",
              "      <td>H</td>\n",
              "      <td>L</td>\n",
              "      <td>0.25</td>\n",
              "      <td>at Worcester MA</td>\n",
              "    </tr>\n",
              "  </tbody>\n",
              "</table>\n",
              "</div>"
            ],
            "text/plain": [
              "      gameorder       game_id lg_id  _iscopy  year_id  date_game  seasongame  \\\n",
              "1726        864  194902260BLB   NBA        0     1949  2/26/1949          53   \n",
              "4890       2446  195301100BLB   NBA        0     1953  1/10/1953          32   \n",
              "4909       2455  195301140BLB   NBA        0     1953  1/14/1953          34   \n",
              "5208       2605  195303110BLB   NBA        0     1953  3/11/1953          66   \n",
              "5825       2913  195402220BLB   NBA        0     1954  2/22/1954          60   \n",
              "\n",
              "      is_playoffs team_id    fran_id  pts    elo_i    elo_n  win_equiv opp_id  \\\n",
              "1726            0     BLB  Baltimore  114  1421.94  1419.43      38.56    MNL   \n",
              "4890            0     BLB  Baltimore  126  1328.67  1356.65      25.80    BOS   \n",
              "4909            0     BLB  Baltimore  104  1349.83  1346.36      24.88    MNL   \n",
              "5208            0     BLB  Baltimore  107  1284.52  1282.24      19.58    NYK   \n",
              "5825            0     BLB  Baltimore  110  1303.75  1301.97      20.74    BOS   \n",
              "\n",
              "     opp_fran  opp_pts  opp_elo_i  opp_elo_n game_location game_result  \\\n",
              "1726   Lakers      115    1637.99    1640.49             H           L   \n",
              "4890  Celtics      105    1591.14    1563.17             H           W   \n",
              "4909   Lakers      112    1665.44    1668.91             H           L   \n",
              "5208   Knicks      113    1649.15    1651.44             H           L   \n",
              "5825  Celtics      111    1591.49    1593.27             H           L   \n",
              "\n",
              "      forecast            notes  \n",
              "1726      0.34              NaN  \n",
              "4890      0.28              NaN  \n",
              "4909      0.22              NaN  \n",
              "5208      0.18     at Boston MA  \n",
              "5825      0.25  at Worcester MA  "
            ]
          },
          "metadata": {
            "tags": []
          },
          "execution_count": 168
        }
      ]
    },
    {
      "cell_type": "markdown",
      "metadata": {
        "id": "eTZtxHPVz_N2",
        "colab_type": "text"
      },
      "source": [
        "Here, you use nba[\"_iscopy\"] == 0 to include only the entries that aren’t copies."
      ]
    },
    {
      "cell_type": "markdown",
      "metadata": {
        "id": "W99G8SAj0OLP",
        "colab_type": "text"
      },
      "source": [
        "What are teams from Los Angeles had to play a home game at another court In the spring of 1992? Both teams have an ID starting with \"LA\"."
      ]
    },
    {
      "cell_type": "code",
      "metadata": {
        "id": "wl7zT_vjz3S9",
        "colab_type": "code",
        "outputId": "1ade7b74-99a7-439c-cfab-1fe60971b29a",
        "colab": {
          "base_uri": "https://localhost:8080/",
          "height": 233
        }
      },
      "source": [
        "nba[\n",
        "    (nba[\"_iscopy\"]==0) &\n",
        "    (nba[\"team_id\"].str.startswith(\"LA\")) &\n",
        "    (nba[\"year_id\"] == 1992) &\n",
        "    (nba[\"notes\"].notna())\n",
        "    ]\n"
      ],
      "execution_count": 0,
      "outputs": [
        {
          "output_type": "execute_result",
          "data": {
            "text/html": [
              "<div>\n",
              "<style scoped>\n",
              "    .dataframe tbody tr th:only-of-type {\n",
              "        vertical-align: middle;\n",
              "    }\n",
              "\n",
              "    .dataframe tbody tr th {\n",
              "        vertical-align: top;\n",
              "    }\n",
              "\n",
              "    .dataframe thead th {\n",
              "        text-align: right;\n",
              "    }\n",
              "</style>\n",
              "<table border=\"1\" class=\"dataframe\">\n",
              "  <thead>\n",
              "    <tr style=\"text-align: right;\">\n",
              "      <th></th>\n",
              "      <th>gameorder</th>\n",
              "      <th>game_id</th>\n",
              "      <th>lg_id</th>\n",
              "      <th>_iscopy</th>\n",
              "      <th>year_id</th>\n",
              "      <th>date_game</th>\n",
              "      <th>seasongame</th>\n",
              "      <th>is_playoffs</th>\n",
              "      <th>team_id</th>\n",
              "      <th>fran_id</th>\n",
              "      <th>pts</th>\n",
              "      <th>elo_i</th>\n",
              "      <th>elo_n</th>\n",
              "      <th>win_equiv</th>\n",
              "      <th>opp_id</th>\n",
              "      <th>opp_fran</th>\n",
              "      <th>opp_pts</th>\n",
              "      <th>opp_elo_i</th>\n",
              "      <th>opp_elo_n</th>\n",
              "      <th>game_location</th>\n",
              "      <th>game_result</th>\n",
              "      <th>forecast</th>\n",
              "      <th>notes</th>\n",
              "    </tr>\n",
              "  </thead>\n",
              "  <tbody>\n",
              "    <tr>\n",
              "      <th>68901</th>\n",
              "      <td>34451</td>\n",
              "      <td>199205030LAC</td>\n",
              "      <td>NBA</td>\n",
              "      <td>0</td>\n",
              "      <td>1992</td>\n",
              "      <td>5/3/1992</td>\n",
              "      <td>86</td>\n",
              "      <td>1</td>\n",
              "      <td>LAC</td>\n",
              "      <td>Clippers</td>\n",
              "      <td>115</td>\n",
              "      <td>1546.90</td>\n",
              "      <td>1556.0</td>\n",
              "      <td>47.89</td>\n",
              "      <td>UTA</td>\n",
              "      <td>Jazz</td>\n",
              "      <td>107</td>\n",
              "      <td>1647.51</td>\n",
              "      <td>1638.41</td>\n",
              "      <td>H</td>\n",
              "      <td>W</td>\n",
              "      <td>0.50</td>\n",
              "      <td>at Anaheim, CA (Anaheim Convention Center)</td>\n",
              "    </tr>\n",
              "    <tr>\n",
              "      <th>68903</th>\n",
              "      <td>34452</td>\n",
              "      <td>199205030LAL</td>\n",
              "      <td>NBA</td>\n",
              "      <td>0</td>\n",
              "      <td>1992</td>\n",
              "      <td>5/3/1992</td>\n",
              "      <td>86</td>\n",
              "      <td>1</td>\n",
              "      <td>LAL</td>\n",
              "      <td>Lakers</td>\n",
              "      <td>76</td>\n",
              "      <td>1489.65</td>\n",
              "      <td>1474.4</td>\n",
              "      <td>39.40</td>\n",
              "      <td>POR</td>\n",
              "      <td>Trailblazers</td>\n",
              "      <td>102</td>\n",
              "      <td>1655.12</td>\n",
              "      <td>1670.37</td>\n",
              "      <td>H</td>\n",
              "      <td>L</td>\n",
              "      <td>0.41</td>\n",
              "      <td>at Las Vegas, NV</td>\n",
              "    </tr>\n",
              "  </tbody>\n",
              "</table>\n",
              "</div>"
            ],
            "text/plain": [
              "       gameorder       game_id lg_id  _iscopy  year_id date_game  seasongame  \\\n",
              "68901      34451  199205030LAC   NBA        0     1992  5/3/1992          86   \n",
              "68903      34452  199205030LAL   NBA        0     1992  5/3/1992          86   \n",
              "\n",
              "       is_playoffs team_id   fran_id  pts    elo_i   elo_n  win_equiv opp_id  \\\n",
              "68901            1     LAC  Clippers  115  1546.90  1556.0      47.89    UTA   \n",
              "68903            1     LAL    Lakers   76  1489.65  1474.4      39.40    POR   \n",
              "\n",
              "           opp_fran  opp_pts  opp_elo_i  opp_elo_n game_location game_result  \\\n",
              "68901          Jazz      107    1647.51    1638.41             H           W   \n",
              "68903  Trailblazers      102    1655.12    1670.37             H           L   \n",
              "\n",
              "       forecast                                       notes  \n",
              "68901      0.50  at Anaheim, CA (Anaheim Convention Center)  \n",
              "68903      0.41                            at Las Vegas, NV  "
            ]
          },
          "metadata": {
            "tags": []
          },
          "execution_count": 169
        }
      ]
    },
    {
      "cell_type": "markdown",
      "metadata": {
        "id": "-k1pZxeE6U0M",
        "colab_type": "text"
      },
      "source": [
        "## Grouping and Aggregating Your Data"
      ]
    },
    {
      "cell_type": "markdown",
      "metadata": {
        "id": "uJyrBCmH6mYx",
        "colab_type": "text"
      },
      "source": [
        "A Series has more than twenty different methods for calculating descriptive statistics. Here are some examples:\n",
        "\n"
      ]
    },
    {
      "cell_type": "code",
      "metadata": {
        "id": "OPOh-VTY0xye",
        "colab_type": "code",
        "outputId": "817c28e8-1301-4201-ba35-2214bf882fcb",
        "colab": {
          "base_uri": "https://localhost:8080/",
          "height": 34
        }
      },
      "source": [
        "points = nba[\"pts\"]\n",
        "points.sum()"
      ],
      "execution_count": 0,
      "outputs": [
        {
          "output_type": "execute_result",
          "data": {
            "text/plain": [
              "12976235"
            ]
          },
          "metadata": {
            "tags": []
          },
          "execution_count": 170
        }
      ]
    },
    {
      "cell_type": "markdown",
      "metadata": {
        "id": "rbYUunI8659v",
        "colab_type": "text"
      },
      "source": [
        "A DataFrame can have multiple columns, which introduces new possibilities for aggregations, like **grouping**:"
      ]
    },
    {
      "cell_type": "code",
      "metadata": {
        "id": "u25ulX__6qta",
        "colab_type": "code",
        "outputId": "7f6661c5-ec6f-4f55-a3be-e2ccb6a375e4",
        "colab": {
          "base_uri": "https://localhost:8080/",
          "height": 952
        }
      },
      "source": [
        "nba.groupby(\"fran_id\", sort=True)[\"pts\"].sum()"
      ],
      "execution_count": 0,
      "outputs": [
        {
          "output_type": "execute_result",
          "data": {
            "text/plain": [
              "fran_id\n",
              "Baltimore        37219\n",
              "Bombers          17793\n",
              "Bucks           418326\n",
              "Bulls           437269\n",
              "Capitols         22387\n",
              "Cavaliers       380416\n",
              "Celtics         626484\n",
              "Clippers        380523\n",
              "Colonels         94435\n",
              "Condors          49642\n",
              "Denver            4818\n",
              "Falcons           3797\n",
              "Floridians       49568\n",
              "Grizzlies       157683\n",
              "Hawks           567261\n",
              "Heat            229103\n",
              "Hornets          84489\n",
              "Huskies           3995\n",
              "Ironmen           3674\n",
              "Jazz            363155\n",
              "Jets              4482\n",
              "Kings           569245\n",
              "Knicks          582497\n",
              "Lakers          637444\n",
              "Magic           219436\n",
              "Mavericks       309239\n",
              "Nets            417809\n",
              "Nuggets         445780\n",
              "Olympians        22864\n",
              "Pacers          438288\n",
              "Packers           6193\n",
              "Pelicans        220794\n",
              "Pistons         572758\n",
              "Raptors         158370\n",
              "Rebels            4474\n",
              "Redskins          5372\n",
              "Rockets         432504\n",
              "Sails            30080\n",
              "Sixers          585891\n",
              "Sounds           75582\n",
              "Spirits          85874\n",
              "Spurs           453822\n",
              "Squires          91127\n",
              "Stags            20398\n",
              "Stars            84940\n",
              "Steamrollers     12372\n",
              "Suns            437486\n",
              "Thunder         437735\n",
              "Timberwolves    207693\n",
              "Trailblazers    402695\n",
              "Warriors        591224\n",
              "Waterloo          4921\n",
              "Wizards         474809\n",
              "Name: pts, dtype: int64"
            ]
          },
          "metadata": {
            "tags": []
          },
          "execution_count": 171
        }
      ]
    },
    {
      "cell_type": "markdown",
      "metadata": {
        "id": "B6RLqM5c78fq",
        "colab_type": "text"
      },
      "source": [
        "###  Take a look at the Golden State Warriors’ 2014-15 season (year_id: 2015). How many wins and losses did they score during the regular season and the playoffs? "
      ]
    },
    {
      "cell_type": "code",
      "metadata": {
        "id": "x3SOzHaR7MIN",
        "colab_type": "code",
        "outputId": "74f3025f-f3f5-4aab-e17c-aff23e36ccaa",
        "colab": {
          "base_uri": "https://localhost:8080/",
          "height": 119
        }
      },
      "source": [
        "nba[\n",
        "     (nba[\"fran_id\"]==\"Warriors\") &\n",
        "     (nba[\"year_id\"]== 2015)\n",
        "     ].groupby([\"is_playoffs\",\"game_result\"])[\"game_id\"].count()"
      ],
      "execution_count": 0,
      "outputs": [
        {
          "output_type": "execute_result",
          "data": {
            "text/plain": [
              "is_playoffs  game_result\n",
              "0            L              15\n",
              "             W              67\n",
              "1            L               5\n",
              "             W              16\n",
              "Name: game_id, dtype: int64"
            ]
          },
          "metadata": {
            "tags": []
          },
          "execution_count": 172
        }
      ]
    },
    {
      "cell_type": "markdown",
      "metadata": {
        "id": "Imf-wAGW951d",
        "colab_type": "text"
      },
      "source": [
        "## Manipulating Columns"
      ]
    },
    {
      "cell_type": "markdown",
      "metadata": {
        "id": "sxn46lvk-De9",
        "colab_type": "text"
      },
      "source": [
        "You’ll need to know how to manipulate your dataset’s columns in different phases of the data analysis process. You can add and drop columns as part of the initial data cleaning phase, or later based on the insights of your analysis."
      ]
    },
    {
      "cell_type": "markdown",
      "metadata": {
        "id": "CexyGe2K-F8m",
        "colab_type": "text"
      },
      "source": [
        "Create a copy of your original DataFrame to work with:"
      ]
    },
    {
      "cell_type": "code",
      "metadata": {
        "id": "-8KeAdRo8Ux8",
        "colab_type": "code",
        "outputId": "ffbfb7da-b1e2-4e36-b36f-c14f9be78e21",
        "colab": {
          "base_uri": "https://localhost:8080/",
          "height": 34
        }
      },
      "source": [
        "copy = nba.copy()\n",
        "copy.shape"
      ],
      "execution_count": 0,
      "outputs": [
        {
          "output_type": "execute_result",
          "data": {
            "text/plain": [
              "(126314, 23)"
            ]
          },
          "metadata": {
            "tags": []
          },
          "execution_count": 173
        }
      ]
    },
    {
      "cell_type": "markdown",
      "metadata": {
        "id": "27BiL7k_-gqR",
        "colab_type": "text"
      },
      "source": [
        "You can define new columns based on the existing ones:"
      ]
    },
    {
      "cell_type": "code",
      "metadata": {
        "id": "aus97_XC-bnJ",
        "colab_type": "code",
        "outputId": "9a60eed1-3152-4420-bf82-e5cff37c3189",
        "colab": {
          "base_uri": "https://localhost:8080/",
          "height": 34
        }
      },
      "source": [
        "copy[\"differnce\"]=copy.pts-copy.opp_pts\n",
        "copy.shape"
      ],
      "execution_count": 0,
      "outputs": [
        {
          "output_type": "execute_result",
          "data": {
            "text/plain": [
              "(126314, 24)"
            ]
          },
          "metadata": {
            "tags": []
          },
          "execution_count": 174
        }
      ]
    },
    {
      "cell_type": "markdown",
      "metadata": {
        "id": "GCh8FDDc_JhV",
        "colab_type": "text"
      },
      "source": [
        "Here, you used an aggregation function .max() to find the largest value of your new column."
      ]
    },
    {
      "cell_type": "code",
      "metadata": {
        "id": "IE71viEL-tEN",
        "colab_type": "code",
        "outputId": "ad7333a0-ffca-477d-ea9a-f2e31f00a590",
        "colab": {
          "base_uri": "https://localhost:8080/",
          "height": 34
        }
      },
      "source": [
        "copy[\"differnce\"].max()"
      ],
      "execution_count": 0,
      "outputs": [
        {
          "output_type": "execute_result",
          "data": {
            "text/plain": [
              "68"
            ]
          },
          "metadata": {
            "tags": []
          },
          "execution_count": 175
        }
      ]
    },
    {
      "cell_type": "markdown",
      "metadata": {
        "id": "zVu6p0hq_uwW",
        "colab_type": "text"
      },
      "source": [
        "## How to rename column name?"
      ]
    },
    {
      "cell_type": "markdown",
      "metadata": {
        "id": "nFD3hcnq_K2S",
        "colab_type": "text"
      },
      "source": [
        "You can also rename the columns of your dataset. It seems that \"game_result\" and \"game_location\" are too verbose, so go ahead and rename them now:"
      ]
    },
    {
      "cell_type": "code",
      "metadata": {
        "id": "EEIJX9w--_-N",
        "colab_type": "code",
        "outputId": "04221e0d-6d67-4d03-f4f3-7bda79f65a2e",
        "colab": {
          "base_uri": "https://localhost:8080/",
          "height": 544
        }
      },
      "source": [
        "rename = copy.rename(\n",
        "    columns = {\"game_result\":\"result\",\"game_location\":\"location\"}\n",
        ")\n",
        "rename.info()"
      ],
      "execution_count": 0,
      "outputs": [
        {
          "output_type": "stream",
          "text": [
            "<class 'pandas.core.frame.DataFrame'>\n",
            "RangeIndex: 126314 entries, 0 to 126313\n",
            "Data columns (total 24 columns):\n",
            " #   Column       Non-Null Count   Dtype  \n",
            "---  ------       --------------   -----  \n",
            " 0   gameorder    126314 non-null  int64  \n",
            " 1   game_id      126314 non-null  object \n",
            " 2   lg_id        126314 non-null  object \n",
            " 3   _iscopy      126314 non-null  int64  \n",
            " 4   year_id      126314 non-null  int64  \n",
            " 5   date_game    126314 non-null  object \n",
            " 6   seasongame   126314 non-null  int64  \n",
            " 7   is_playoffs  126314 non-null  int64  \n",
            " 8   team_id      126314 non-null  object \n",
            " 9   fran_id      126314 non-null  object \n",
            " 10  pts          126314 non-null  int64  \n",
            " 11  elo_i        126314 non-null  float64\n",
            " 12  elo_n        126314 non-null  float64\n",
            " 13  win_equiv    126314 non-null  float64\n",
            " 14  opp_id       126314 non-null  object \n",
            " 15  opp_fran     126314 non-null  object \n",
            " 16  opp_pts      126314 non-null  int64  \n",
            " 17  opp_elo_i    126314 non-null  float64\n",
            " 18  opp_elo_n    126314 non-null  float64\n",
            " 19  location     126314 non-null  object \n",
            " 20  result       126314 non-null  object \n",
            " 21  forecast     126314 non-null  float64\n",
            " 22  notes        5424 non-null    object \n",
            " 23  differnce    126314 non-null  int64  \n",
            "dtypes: float64(6), int64(8), object(10)\n",
            "memory usage: 23.1+ MB\n"
          ],
          "name": "stdout"
        }
      ]
    },
    {
      "cell_type": "markdown",
      "metadata": {
        "id": "pbF6aE3ZAKzl",
        "colab_type": "text"
      },
      "source": [
        "## How to delete useless columns?"
      ]
    },
    {
      "cell_type": "code",
      "metadata": {
        "id": "tfleO5XA_CD3",
        "colab_type": "code",
        "outputId": "c59e5c83-ad2d-4ad7-8288-6e4de2e9f2f4",
        "colab": {
          "base_uri": "https://localhost:8080/",
          "height": 34
        }
      },
      "source": [
        "copy.shape"
      ],
      "execution_count": 0,
      "outputs": [
        {
          "output_type": "execute_result",
          "data": {
            "text/plain": [
              "(126314, 24)"
            ]
          },
          "metadata": {
            "tags": []
          },
          "execution_count": 177
        }
      ]
    },
    {
      "cell_type": "code",
      "metadata": {
        "id": "gii-9h_dAx4u",
        "colab_type": "code",
        "outputId": "8c3a6fd0-6058-42c5-aa44-0a39ac00ae4e",
        "colab": {
          "base_uri": "https://localhost:8080/",
          "height": 34
        }
      },
      "source": [
        "elo_columns=[\"elo_i\", \"elo_n\", \"opp_elo_i\", \"opp_elo_n\"]\n",
        "copy.drop(elo_columns, inplace = True, axis=1)\n",
        "copy.shape"
      ],
      "execution_count": 0,
      "outputs": [
        {
          "output_type": "execute_result",
          "data": {
            "text/plain": [
              "(126314, 20)"
            ]
          },
          "metadata": {
            "tags": []
          },
          "execution_count": 178
        }
      ]
    },
    {
      "cell_type": "markdown",
      "metadata": {
        "id": "ya63y9ZFCD_C",
        "colab_type": "text"
      },
      "source": [
        "## Data Types Conversion"
      ]
    },
    {
      "cell_type": "code",
      "metadata": {
        "id": "JyVDXrJ4BAcz",
        "colab_type": "code",
        "outputId": "db1ec9e0-2383-4bc8-8f33-317aa2f72152",
        "colab": {
          "base_uri": "https://localhost:8080/",
          "height": 476
        }
      },
      "source": [
        "copy.info()"
      ],
      "execution_count": 0,
      "outputs": [
        {
          "output_type": "stream",
          "text": [
            "<class 'pandas.core.frame.DataFrame'>\n",
            "RangeIndex: 126314 entries, 0 to 126313\n",
            "Data columns (total 20 columns):\n",
            " #   Column         Non-Null Count   Dtype  \n",
            "---  ------         --------------   -----  \n",
            " 0   gameorder      126314 non-null  int64  \n",
            " 1   game_id        126314 non-null  object \n",
            " 2   lg_id          126314 non-null  object \n",
            " 3   _iscopy        126314 non-null  int64  \n",
            " 4   year_id        126314 non-null  int64  \n",
            " 5   date_game      126314 non-null  object \n",
            " 6   seasongame     126314 non-null  int64  \n",
            " 7   is_playoffs    126314 non-null  int64  \n",
            " 8   team_id        126314 non-null  object \n",
            " 9   fran_id        126314 non-null  object \n",
            " 10  pts            126314 non-null  int64  \n",
            " 11  win_equiv      126314 non-null  float64\n",
            " 12  opp_id         126314 non-null  object \n",
            " 13  opp_fran       126314 non-null  object \n",
            " 14  opp_pts        126314 non-null  int64  \n",
            " 15  game_location  126314 non-null  object \n",
            " 16  game_result    126314 non-null  object \n",
            " 17  forecast       126314 non-null  float64\n",
            " 18  notes          5424 non-null    object \n",
            " 19  differnce      126314 non-null  int64  \n",
            "dtypes: float64(2), int64(8), object(10)\n",
            "memory usage: 19.3+ MB\n"
          ],
          "name": "stdout"
        }
      ]
    },
    {
      "cell_type": "markdown",
      "metadata": {
        "id": "qzrS0Gf3QjHx",
        "colab_type": "text"
      },
      "source": [
        "Here, you use .to_datetime() to specify all game dates as datetime objects."
      ]
    },
    {
      "cell_type": "code",
      "metadata": {
        "id": "fLQwXhzVQPmV",
        "colab_type": "code",
        "outputId": "7545a931-2f5b-4b85-ccdd-0c8415fdd7ba",
        "colab": {
          "base_uri": "https://localhost:8080/",
          "height": 476
        }
      },
      "source": [
        "copy[\"date_game\"] = pd.to_datetime(copy[\"date_game\"])\n",
        "copy.info()"
      ],
      "execution_count": 0,
      "outputs": [
        {
          "output_type": "stream",
          "text": [
            "<class 'pandas.core.frame.DataFrame'>\n",
            "RangeIndex: 126314 entries, 0 to 126313\n",
            "Data columns (total 20 columns):\n",
            " #   Column         Non-Null Count   Dtype         \n",
            "---  ------         --------------   -----         \n",
            " 0   gameorder      126314 non-null  int64         \n",
            " 1   game_id        126314 non-null  object        \n",
            " 2   lg_id          126314 non-null  object        \n",
            " 3   _iscopy        126314 non-null  int64         \n",
            " 4   year_id        126314 non-null  int64         \n",
            " 5   date_game      126314 non-null  datetime64[ns]\n",
            " 6   seasongame     126314 non-null  int64         \n",
            " 7   is_playoffs    126314 non-null  int64         \n",
            " 8   team_id        126314 non-null  object        \n",
            " 9   fran_id        126314 non-null  object        \n",
            " 10  pts            126314 non-null  int64         \n",
            " 11  win_equiv      126314 non-null  float64       \n",
            " 12  opp_id         126314 non-null  object        \n",
            " 13  opp_fran       126314 non-null  object        \n",
            " 14  opp_pts        126314 non-null  int64         \n",
            " 15  game_location  126314 non-null  object        \n",
            " 16  game_result    126314 non-null  object        \n",
            " 17  forecast       126314 non-null  float64       \n",
            " 18  notes          5424 non-null    object        \n",
            " 19  differnce      126314 non-null  int64         \n",
            "dtypes: datetime64[ns](1), float64(2), int64(8), object(9)\n",
            "memory usage: 19.3+ MB\n"
          ],
          "name": "stdout"
        }
      ]
    },
    {
      "cell_type": "code",
      "metadata": {
        "id": "ZQaAEQ7kQt-m",
        "colab_type": "code",
        "outputId": "8f7e9698-7a87-44d9-91a5-5898da518f39",
        "colab": {
          "base_uri": "https://localhost:8080/",
          "height": 34
        }
      },
      "source": [
        "copy[\"game_location\"]=pd.Categorical(copy[\"game_location\"])\n",
        "copy[\"game_location\"].dtype"
      ],
      "execution_count": 0,
      "outputs": [
        {
          "output_type": "execute_result",
          "data": {
            "text/plain": [
              "CategoricalDtype(categories=['A', 'H', 'N'], ordered=False)"
            ]
          },
          "metadata": {
            "tags": []
          },
          "execution_count": 181
        }
      ]
    },
    {
      "cell_type": "code",
      "metadata": {
        "id": "1cVl23JURsG4",
        "colab_type": "code",
        "outputId": "0fdd6d8b-8e25-4bf2-befd-4351b5f669b5",
        "colab": {
          "base_uri": "https://localhost:8080/",
          "height": 34
        }
      },
      "source": [
        "copy[\"game_result\"].nunique()"
      ],
      "execution_count": 0,
      "outputs": [
        {
          "output_type": "execute_result",
          "data": {
            "text/plain": [
              "2"
            ]
          },
          "metadata": {
            "tags": []
          },
          "execution_count": 182
        }
      ]
    },
    {
      "cell_type": "code",
      "metadata": {
        "id": "cdxxoEWYR0I9",
        "colab_type": "code",
        "outputId": "38d8d609-142f-44e1-d908-0745afca4dee",
        "colab": {
          "base_uri": "https://localhost:8080/",
          "height": 68
        }
      },
      "source": [
        "copy[\"game_result\"].value_counts()"
      ],
      "execution_count": 0,
      "outputs": [
        {
          "output_type": "execute_result",
          "data": {
            "text/plain": [
              "W    63157\n",
              "L    63157\n",
              "Name: game_result, dtype: int64"
            ]
          },
          "metadata": {
            "tags": []
          },
          "execution_count": 183
        }
      ]
    },
    {
      "cell_type": "code",
      "metadata": {
        "id": "dQgNXliYR4GX",
        "colab_type": "code",
        "outputId": "8c37c812-bbf9-46f6-aafb-ad614205c695",
        "colab": {
          "base_uri": "https://localhost:8080/",
          "height": 34
        }
      },
      "source": [
        "copy[\"game_result\"]=pd.Categorical(copy[\"game_result\"])\n",
        "copy[\"game_result\"].dtype"
      ],
      "execution_count": 0,
      "outputs": [
        {
          "output_type": "execute_result",
          "data": {
            "text/plain": [
              "CategoricalDtype(categories=['L', 'W'], ordered=False)"
            ]
          },
          "metadata": {
            "tags": []
          },
          "execution_count": 184
        }
      ]
    },
    {
      "cell_type": "markdown",
      "metadata": {
        "id": "ecYyzNfDSHgz",
        "colab_type": "text"
      },
      "source": [
        "## Cleaning Data"
      ]
    },
    {
      "cell_type": "markdown",
      "metadata": {
        "id": "YVheVYOFSaJ-",
        "colab_type": "text"
      },
      "source": [
        "## Missing Values"
      ]
    },
    {
      "cell_type": "markdown",
      "metadata": {
        "id": "7vE0kwl7Sp94",
        "colab_type": "text"
      },
      "source": [
        "Have you ever wondered why .info() shows how many non-null values a column contains? The reason why is that this is vital information. Null values often indicate a problem in the data-gathering process. "
      ]
    },
    {
      "cell_type": "code",
      "metadata": {
        "id": "4Qznz54rR_kc",
        "colab_type": "code",
        "outputId": "47231df5-ee70-44d6-b358-9feaafe2c988",
        "colab": {
          "base_uri": "https://localhost:8080/",
          "height": 476
        }
      },
      "source": [
        "copy.info()"
      ],
      "execution_count": 0,
      "outputs": [
        {
          "output_type": "stream",
          "text": [
            "<class 'pandas.core.frame.DataFrame'>\n",
            "RangeIndex: 126314 entries, 0 to 126313\n",
            "Data columns (total 20 columns):\n",
            " #   Column         Non-Null Count   Dtype         \n",
            "---  ------         --------------   -----         \n",
            " 0   gameorder      126314 non-null  int64         \n",
            " 1   game_id        126314 non-null  object        \n",
            " 2   lg_id          126314 non-null  object        \n",
            " 3   _iscopy        126314 non-null  int64         \n",
            " 4   year_id        126314 non-null  int64         \n",
            " 5   date_game      126314 non-null  datetime64[ns]\n",
            " 6   seasongame     126314 non-null  int64         \n",
            " 7   is_playoffs    126314 non-null  int64         \n",
            " 8   team_id        126314 non-null  object        \n",
            " 9   fran_id        126314 non-null  object        \n",
            " 10  pts            126314 non-null  int64         \n",
            " 11  win_equiv      126314 non-null  float64       \n",
            " 12  opp_id         126314 non-null  object        \n",
            " 13  opp_fran       126314 non-null  object        \n",
            " 14  opp_pts        126314 non-null  int64         \n",
            " 15  game_location  126314 non-null  category      \n",
            " 16  game_result    126314 non-null  category      \n",
            " 17  forecast       126314 non-null  float64       \n",
            " 18  notes          5424 non-null    object        \n",
            " 19  differnce      126314 non-null  int64         \n",
            "dtypes: category(2), datetime64[ns](1), float64(2), int64(8), object(7)\n",
            "memory usage: 17.6+ MB\n"
          ],
          "name": "stdout"
        }
      ]
    },
    {
      "cell_type": "markdown",
      "metadata": {
        "id": "nBJ7mSdnTe5L",
        "colab_type": "text"
      },
      "source": [
        "You can remove all the rows with missing values using .dropna():"
      ]
    },
    {
      "cell_type": "code",
      "metadata": {
        "id": "7imSN3TiS0fw",
        "colab_type": "code",
        "outputId": "d40e80c5-9b7a-4797-b34d-7b65d7553c30",
        "colab": {
          "base_uri": "https://localhost:8080/",
          "height": 796
        }
      },
      "source": [
        "row_without_missing_data = copy.dropna()\n",
        "row_without_missing_data"
      ],
      "execution_count": 0,
      "outputs": [
        {
          "output_type": "execute_result",
          "data": {
            "text/html": [
              "<div>\n",
              "<style scoped>\n",
              "    .dataframe tbody tr th:only-of-type {\n",
              "        vertical-align: middle;\n",
              "    }\n",
              "\n",
              "    .dataframe tbody tr th {\n",
              "        vertical-align: top;\n",
              "    }\n",
              "\n",
              "    .dataframe thead th {\n",
              "        text-align: right;\n",
              "    }\n",
              "</style>\n",
              "<table border=\"1\" class=\"dataframe\">\n",
              "  <thead>\n",
              "    <tr style=\"text-align: right;\">\n",
              "      <th></th>\n",
              "      <th>gameorder</th>\n",
              "      <th>game_id</th>\n",
              "      <th>lg_id</th>\n",
              "      <th>_iscopy</th>\n",
              "      <th>year_id</th>\n",
              "      <th>date_game</th>\n",
              "      <th>seasongame</th>\n",
              "      <th>is_playoffs</th>\n",
              "      <th>team_id</th>\n",
              "      <th>fran_id</th>\n",
              "      <th>pts</th>\n",
              "      <th>win_equiv</th>\n",
              "      <th>opp_id</th>\n",
              "      <th>opp_fran</th>\n",
              "      <th>opp_pts</th>\n",
              "      <th>game_location</th>\n",
              "      <th>game_result</th>\n",
              "      <th>forecast</th>\n",
              "      <th>notes</th>\n",
              "      <th>differnce</th>\n",
              "    </tr>\n",
              "  </thead>\n",
              "  <tbody>\n",
              "    <tr>\n",
              "      <th>930</th>\n",
              "      <td>466</td>\n",
              "      <td>194801300BLB</td>\n",
              "      <td>NBA</td>\n",
              "      <td>1</td>\n",
              "      <td>1948</td>\n",
              "      <td>1948-01-30</td>\n",
              "      <td>28</td>\n",
              "      <td>0</td>\n",
              "      <td>WSC</td>\n",
              "      <td>Capitols</td>\n",
              "      <td>71</td>\n",
              "      <td>47.07</td>\n",
              "      <td>BLB</td>\n",
              "      <td>Baltimore</td>\n",
              "      <td>95</td>\n",
              "      <td>A</td>\n",
              "      <td>L</td>\n",
              "      <td>0.41</td>\n",
              "      <td>at Baltimore's Fifth Regiment Armory</td>\n",
              "      <td>-24</td>\n",
              "    </tr>\n",
              "    <tr>\n",
              "      <th>931</th>\n",
              "      <td>466</td>\n",
              "      <td>194801300BLB</td>\n",
              "      <td>NBA</td>\n",
              "      <td>0</td>\n",
              "      <td>1948</td>\n",
              "      <td>1948-01-30</td>\n",
              "      <td>31</td>\n",
              "      <td>0</td>\n",
              "      <td>BLB</td>\n",
              "      <td>Baltimore</td>\n",
              "      <td>95</td>\n",
              "      <td>46.41</td>\n",
              "      <td>WSC</td>\n",
              "      <td>Capitols</td>\n",
              "      <td>71</td>\n",
              "      <td>H</td>\n",
              "      <td>W</td>\n",
              "      <td>0.59</td>\n",
              "      <td>at Baltimore's Fifth Regiment Armory</td>\n",
              "      <td>24</td>\n",
              "    </tr>\n",
              "    <tr>\n",
              "      <th>1084</th>\n",
              "      <td>543</td>\n",
              "      <td>194803230CHS</td>\n",
              "      <td>NBA</td>\n",
              "      <td>1</td>\n",
              "      <td>1948</td>\n",
              "      <td>1948-03-23</td>\n",
              "      <td>49</td>\n",
              "      <td>1</td>\n",
              "      <td>WSC</td>\n",
              "      <td>Capitols</td>\n",
              "      <td>70</td>\n",
              "      <td>47.71</td>\n",
              "      <td>CHS</td>\n",
              "      <td>Stags</td>\n",
              "      <td>74</td>\n",
              "      <td>A</td>\n",
              "      <td>L</td>\n",
              "      <td>0.39</td>\n",
              "      <td>Tiebreaker</td>\n",
              "      <td>-4</td>\n",
              "    </tr>\n",
              "    <tr>\n",
              "      <th>1085</th>\n",
              "      <td>543</td>\n",
              "      <td>194803230CHS</td>\n",
              "      <td>NBA</td>\n",
              "      <td>0</td>\n",
              "      <td>1948</td>\n",
              "      <td>1948-03-23</td>\n",
              "      <td>49</td>\n",
              "      <td>1</td>\n",
              "      <td>CHS</td>\n",
              "      <td>Stags</td>\n",
              "      <td>74</td>\n",
              "      <td>46.09</td>\n",
              "      <td>WSC</td>\n",
              "      <td>Capitols</td>\n",
              "      <td>70</td>\n",
              "      <td>H</td>\n",
              "      <td>W</td>\n",
              "      <td>0.61</td>\n",
              "      <td>Tiebreaker</td>\n",
              "      <td>4</td>\n",
              "    </tr>\n",
              "    <tr>\n",
              "      <th>1088</th>\n",
              "      <td>545</td>\n",
              "      <td>194803250CHS</td>\n",
              "      <td>NBA</td>\n",
              "      <td>1</td>\n",
              "      <td>1948</td>\n",
              "      <td>1948-03-25</td>\n",
              "      <td>49</td>\n",
              "      <td>1</td>\n",
              "      <td>BLB</td>\n",
              "      <td>Baltimore</td>\n",
              "      <td>75</td>\n",
              "      <td>50.04</td>\n",
              "      <td>CHS</td>\n",
              "      <td>Stags</td>\n",
              "      <td>72</td>\n",
              "      <td>A</td>\n",
              "      <td>W</td>\n",
              "      <td>0.40</td>\n",
              "      <td>Tiebreaker</td>\n",
              "      <td>3</td>\n",
              "    </tr>\n",
              "    <tr>\n",
              "      <th>...</th>\n",
              "      <td>...</td>\n",
              "      <td>...</td>\n",
              "      <td>...</td>\n",
              "      <td>...</td>\n",
              "      <td>...</td>\n",
              "      <td>...</td>\n",
              "      <td>...</td>\n",
              "      <td>...</td>\n",
              "      <td>...</td>\n",
              "      <td>...</td>\n",
              "      <td>...</td>\n",
              "      <td>...</td>\n",
              "      <td>...</td>\n",
              "      <td>...</td>\n",
              "      <td>...</td>\n",
              "      <td>...</td>\n",
              "      <td>...</td>\n",
              "      <td>...</td>\n",
              "      <td>...</td>\n",
              "      <td>...</td>\n",
              "    </tr>\n",
              "    <tr>\n",
              "      <th>122207</th>\n",
              "      <td>61104</td>\n",
              "      <td>201401160ATL</td>\n",
              "      <td>NBA</td>\n",
              "      <td>0</td>\n",
              "      <td>2014</td>\n",
              "      <td>2014-01-16</td>\n",
              "      <td>39</td>\n",
              "      <td>0</td>\n",
              "      <td>ATL</td>\n",
              "      <td>Hawks</td>\n",
              "      <td>110</td>\n",
              "      <td>39.24</td>\n",
              "      <td>BRK</td>\n",
              "      <td>Nets</td>\n",
              "      <td>127</td>\n",
              "      <td>N</td>\n",
              "      <td>L</td>\n",
              "      <td>0.57</td>\n",
              "      <td>at London, England</td>\n",
              "      <td>-17</td>\n",
              "    </tr>\n",
              "    <tr>\n",
              "      <th>123916</th>\n",
              "      <td>61959</td>\n",
              "      <td>201411120MIN</td>\n",
              "      <td>NBA</td>\n",
              "      <td>1</td>\n",
              "      <td>2015</td>\n",
              "      <td>2014-11-12</td>\n",
              "      <td>8</td>\n",
              "      <td>0</td>\n",
              "      <td>HOU</td>\n",
              "      <td>Rockets</td>\n",
              "      <td>113</td>\n",
              "      <td>54.89</td>\n",
              "      <td>MIN</td>\n",
              "      <td>Timberwolves</td>\n",
              "      <td>101</td>\n",
              "      <td>N</td>\n",
              "      <td>W</td>\n",
              "      <td>0.68</td>\n",
              "      <td>at Mexico City Arena, Mexico City, Mexico</td>\n",
              "      <td>12</td>\n",
              "    </tr>\n",
              "    <tr>\n",
              "      <th>123917</th>\n",
              "      <td>61959</td>\n",
              "      <td>201411120MIN</td>\n",
              "      <td>NBA</td>\n",
              "      <td>0</td>\n",
              "      <td>2015</td>\n",
              "      <td>2014-11-12</td>\n",
              "      <td>7</td>\n",
              "      <td>0</td>\n",
              "      <td>MIN</td>\n",
              "      <td>Timberwolves</td>\n",
              "      <td>101</td>\n",
              "      <td>40.13</td>\n",
              "      <td>HOU</td>\n",
              "      <td>Rockets</td>\n",
              "      <td>113</td>\n",
              "      <td>N</td>\n",
              "      <td>L</td>\n",
              "      <td>0.32</td>\n",
              "      <td>at Mexico City Arena, Mexico City, Mexico</td>\n",
              "      <td>-12</td>\n",
              "    </tr>\n",
              "    <tr>\n",
              "      <th>124862</th>\n",
              "      <td>62432</td>\n",
              "      <td>201501150MIL</td>\n",
              "      <td>NBA</td>\n",
              "      <td>0</td>\n",
              "      <td>2015</td>\n",
              "      <td>2015-01-15</td>\n",
              "      <td>40</td>\n",
              "      <td>0</td>\n",
              "      <td>MIL</td>\n",
              "      <td>Bucks</td>\n",
              "      <td>95</td>\n",
              "      <td>41.14</td>\n",
              "      <td>NYK</td>\n",
              "      <td>Knicks</td>\n",
              "      <td>79</td>\n",
              "      <td>N</td>\n",
              "      <td>W</td>\n",
              "      <td>0.75</td>\n",
              "      <td>at The O2, London, England</td>\n",
              "      <td>16</td>\n",
              "    </tr>\n",
              "    <tr>\n",
              "      <th>124863</th>\n",
              "      <td>62432</td>\n",
              "      <td>201501150MIL</td>\n",
              "      <td>NBA</td>\n",
              "      <td>1</td>\n",
              "      <td>2015</td>\n",
              "      <td>2015-01-15</td>\n",
              "      <td>41</td>\n",
              "      <td>0</td>\n",
              "      <td>NYK</td>\n",
              "      <td>Knicks</td>\n",
              "      <td>79</td>\n",
              "      <td>21.19</td>\n",
              "      <td>MIL</td>\n",
              "      <td>Bucks</td>\n",
              "      <td>95</td>\n",
              "      <td>N</td>\n",
              "      <td>L</td>\n",
              "      <td>0.25</td>\n",
              "      <td>at The O2, London, England</td>\n",
              "      <td>-16</td>\n",
              "    </tr>\n",
              "  </tbody>\n",
              "</table>\n",
              "<p>5424 rows × 20 columns</p>\n",
              "</div>"
            ],
            "text/plain": [
              "        gameorder       game_id lg_id  _iscopy  year_id  date_game  \\\n",
              "930           466  194801300BLB   NBA        1     1948 1948-01-30   \n",
              "931           466  194801300BLB   NBA        0     1948 1948-01-30   \n",
              "1084          543  194803230CHS   NBA        1     1948 1948-03-23   \n",
              "1085          543  194803230CHS   NBA        0     1948 1948-03-23   \n",
              "1088          545  194803250CHS   NBA        1     1948 1948-03-25   \n",
              "...           ...           ...   ...      ...      ...        ...   \n",
              "122207      61104  201401160ATL   NBA        0     2014 2014-01-16   \n",
              "123916      61959  201411120MIN   NBA        1     2015 2014-11-12   \n",
              "123917      61959  201411120MIN   NBA        0     2015 2014-11-12   \n",
              "124862      62432  201501150MIL   NBA        0     2015 2015-01-15   \n",
              "124863      62432  201501150MIL   NBA        1     2015 2015-01-15   \n",
              "\n",
              "        seasongame  is_playoffs team_id       fran_id  pts  win_equiv opp_id  \\\n",
              "930             28            0     WSC      Capitols   71      47.07    BLB   \n",
              "931             31            0     BLB     Baltimore   95      46.41    WSC   \n",
              "1084            49            1     WSC      Capitols   70      47.71    CHS   \n",
              "1085            49            1     CHS         Stags   74      46.09    WSC   \n",
              "1088            49            1     BLB     Baltimore   75      50.04    CHS   \n",
              "...            ...          ...     ...           ...  ...        ...    ...   \n",
              "122207          39            0     ATL         Hawks  110      39.24    BRK   \n",
              "123916           8            0     HOU       Rockets  113      54.89    MIN   \n",
              "123917           7            0     MIN  Timberwolves  101      40.13    HOU   \n",
              "124862          40            0     MIL         Bucks   95      41.14    NYK   \n",
              "124863          41            0     NYK        Knicks   79      21.19    MIL   \n",
              "\n",
              "            opp_fran  opp_pts game_location game_result  forecast  \\\n",
              "930        Baltimore       95             A           L      0.41   \n",
              "931         Capitols       71             H           W      0.59   \n",
              "1084           Stags       74             A           L      0.39   \n",
              "1085        Capitols       70             H           W      0.61   \n",
              "1088           Stags       72             A           W      0.40   \n",
              "...              ...      ...           ...         ...       ...   \n",
              "122207          Nets      127             N           L      0.57   \n",
              "123916  Timberwolves      101             N           W      0.68   \n",
              "123917       Rockets      113             N           L      0.32   \n",
              "124862        Knicks       79             N           W      0.75   \n",
              "124863         Bucks       95             N           L      0.25   \n",
              "\n",
              "                                            notes  differnce  \n",
              "930          at Baltimore's Fifth Regiment Armory        -24  \n",
              "931          at Baltimore's Fifth Regiment Armory         24  \n",
              "1084                                   Tiebreaker         -4  \n",
              "1085                                   Tiebreaker          4  \n",
              "1088                                   Tiebreaker          3  \n",
              "...                                           ...        ...  \n",
              "122207                         at London, England        -17  \n",
              "123916  at Mexico City Arena, Mexico City, Mexico         12  \n",
              "123917  at Mexico City Arena, Mexico City, Mexico        -12  \n",
              "124862                 at The O2, London, England         16  \n",
              "124863                 at The O2, London, England        -16  \n",
              "\n",
              "[5424 rows x 20 columns]"
            ]
          },
          "metadata": {
            "tags": []
          },
          "execution_count": 186
        }
      ]
    },
    {
      "cell_type": "code",
      "metadata": {
        "id": "tr_IbygGTX5g",
        "colab_type": "code",
        "outputId": "bb0cf368-4bcf-425d-a3da-49710a4dc29c",
        "colab": {
          "base_uri": "https://localhost:8080/",
          "height": 34
        }
      },
      "source": [
        "row_without_missing_data.shape"
      ],
      "execution_count": 0,
      "outputs": [
        {
          "output_type": "execute_result",
          "data": {
            "text/plain": [
              "(5424, 20)"
            ]
          },
          "metadata": {
            "tags": []
          },
          "execution_count": 187
        }
      ]
    },
    {
      "cell_type": "markdown",
      "metadata": {
        "id": "Gw4i9SoTT3dT",
        "colab_type": "text"
      },
      "source": [
        "Of course, this kind of data cleanup doesn’t make sense for your nba dataset, because it’s not a problem for a game to lack notes. But if your dataset contains a million valid records and a hundred where relevant data is missing, then dropping the incomplete records can be a reasonable solution.\n",
        "\n",
        "You can also drop problematic columns if they’re not relevant for your analysis. To do this, use .dropna() again and provide the axis=1 parameter:"
      ]
    },
    {
      "cell_type": "code",
      "metadata": {
        "id": "PhlMhz3qTws5",
        "colab_type": "code",
        "outputId": "f98bf000-9658-4464-c27c-ba79dcad685d",
        "colab": {
          "base_uri": "https://localhost:8080/",
          "height": 34
        }
      },
      "source": [
        "column_without_missing_data = row_without_missing_data.dropna(axis=1)\n",
        "column_without_missing_data.shape"
      ],
      "execution_count": 0,
      "outputs": [
        {
          "output_type": "execute_result",
          "data": {
            "text/plain": [
              "(5424, 20)"
            ]
          },
          "metadata": {
            "tags": []
          },
          "execution_count": 188
        }
      ]
    },
    {
      "cell_type": "markdown",
      "metadata": {
        "id": "0Wh2thFyUl5z",
        "colab_type": "text"
      },
      "source": [
        "## Fill In Missing Values"
      ]
    },
    {
      "cell_type": "markdown",
      "metadata": {
        "id": "Zkm-y80fUb1m",
        "colab_type": "text"
      },
      "source": [
        "If there’s a meaningful default value for your use case, then you can also replace the missing values with that:"
      ]
    },
    {
      "cell_type": "code",
      "metadata": {
        "id": "VmSV7Rt-UA2R",
        "colab_type": "code",
        "outputId": "41974318-6325-40df-ca82-fcbfa26eab6f",
        "colab": {
          "base_uri": "https://localhost:8080/",
          "height": 102
        }
      },
      "source": [
        "default_notes = nba.copy()\n",
        "default_notes[\"notes\"].fillna(\n",
        "    value=\"no notes\", \n",
        "    inplace = True\n",
        ")\n",
        "default_notes[\"notes\"].describe()"
      ],
      "execution_count": 0,
      "outputs": [
        {
          "output_type": "execute_result",
          "data": {
            "text/plain": [
              "count       126314\n",
              "unique         232\n",
              "top       no notes\n",
              "freq        120890\n",
              "Name: notes, dtype: object"
            ]
          },
          "metadata": {
            "tags": []
          },
          "execution_count": 189
        }
      ]
    },
    {
      "cell_type": "markdown",
      "metadata": {
        "id": "mOKf1A8hVVuY",
        "colab_type": "text"
      },
      "source": [
        "Here, you fill the empty notes rows with the string \"no notes\""
      ]
    },
    {
      "cell_type": "markdown",
      "metadata": {
        "id": "QWuBKcENVZuz",
        "colab_type": "text"
      },
      "source": [
        "## Invalid Values"
      ]
    },
    {
      "cell_type": "code",
      "metadata": {
        "id": "I07IQdFYVK8P",
        "colab_type": "code",
        "outputId": "625475bc-8523-477a-d094-ebba5ef0fde1",
        "colab": {
          "base_uri": "https://localhost:8080/",
          "height": 317
        }
      },
      "source": [
        "copy.describe()"
      ],
      "execution_count": 0,
      "outputs": [
        {
          "output_type": "execute_result",
          "data": {
            "text/html": [
              "<div>\n",
              "<style scoped>\n",
              "    .dataframe tbody tr th:only-of-type {\n",
              "        vertical-align: middle;\n",
              "    }\n",
              "\n",
              "    .dataframe tbody tr th {\n",
              "        vertical-align: top;\n",
              "    }\n",
              "\n",
              "    .dataframe thead th {\n",
              "        text-align: right;\n",
              "    }\n",
              "</style>\n",
              "<table border=\"1\" class=\"dataframe\">\n",
              "  <thead>\n",
              "    <tr style=\"text-align: right;\">\n",
              "      <th></th>\n",
              "      <th>gameorder</th>\n",
              "      <th>_iscopy</th>\n",
              "      <th>year_id</th>\n",
              "      <th>seasongame</th>\n",
              "      <th>is_playoffs</th>\n",
              "      <th>pts</th>\n",
              "      <th>win_equiv</th>\n",
              "      <th>opp_pts</th>\n",
              "      <th>forecast</th>\n",
              "      <th>differnce</th>\n",
              "    </tr>\n",
              "  </thead>\n",
              "  <tbody>\n",
              "    <tr>\n",
              "      <th>count</th>\n",
              "      <td>126314.00</td>\n",
              "      <td>126314.0</td>\n",
              "      <td>126314.00</td>\n",
              "      <td>126314.00</td>\n",
              "      <td>126314.00</td>\n",
              "      <td>126314.00</td>\n",
              "      <td>126314.00</td>\n",
              "      <td>126314.00</td>\n",
              "      <td>126314.00</td>\n",
              "      <td>126314.00</td>\n",
              "    </tr>\n",
              "    <tr>\n",
              "      <th>mean</th>\n",
              "      <td>31579.00</td>\n",
              "      <td>0.5</td>\n",
              "      <td>1988.20</td>\n",
              "      <td>43.53</td>\n",
              "      <td>0.06</td>\n",
              "      <td>102.73</td>\n",
              "      <td>41.71</td>\n",
              "      <td>102.73</td>\n",
              "      <td>0.50</td>\n",
              "      <td>0.00</td>\n",
              "    </tr>\n",
              "    <tr>\n",
              "      <th>std</th>\n",
              "      <td>18231.93</td>\n",
              "      <td>0.5</td>\n",
              "      <td>17.58</td>\n",
              "      <td>25.38</td>\n",
              "      <td>0.24</td>\n",
              "      <td>14.81</td>\n",
              "      <td>10.63</td>\n",
              "      <td>14.81</td>\n",
              "      <td>0.22</td>\n",
              "      <td>13.37</td>\n",
              "    </tr>\n",
              "    <tr>\n",
              "      <th>min</th>\n",
              "      <td>1.00</td>\n",
              "      <td>0.0</td>\n",
              "      <td>1947.00</td>\n",
              "      <td>1.00</td>\n",
              "      <td>0.00</td>\n",
              "      <td>0.00</td>\n",
              "      <td>10.15</td>\n",
              "      <td>0.00</td>\n",
              "      <td>0.02</td>\n",
              "      <td>-68.00</td>\n",
              "    </tr>\n",
              "    <tr>\n",
              "      <th>25%</th>\n",
              "      <td>15790.00</td>\n",
              "      <td>0.0</td>\n",
              "      <td>1975.00</td>\n",
              "      <td>22.00</td>\n",
              "      <td>0.00</td>\n",
              "      <td>93.00</td>\n",
              "      <td>34.10</td>\n",
              "      <td>93.00</td>\n",
              "      <td>0.33</td>\n",
              "      <td>-9.00</td>\n",
              "    </tr>\n",
              "    <tr>\n",
              "      <th>50%</th>\n",
              "      <td>31579.00</td>\n",
              "      <td>0.5</td>\n",
              "      <td>1990.00</td>\n",
              "      <td>43.00</td>\n",
              "      <td>0.00</td>\n",
              "      <td>103.00</td>\n",
              "      <td>42.11</td>\n",
              "      <td>103.00</td>\n",
              "      <td>0.50</td>\n",
              "      <td>0.00</td>\n",
              "    </tr>\n",
              "    <tr>\n",
              "      <th>75%</th>\n",
              "      <td>47368.00</td>\n",
              "      <td>1.0</td>\n",
              "      <td>2003.00</td>\n",
              "      <td>65.00</td>\n",
              "      <td>0.00</td>\n",
              "      <td>112.00</td>\n",
              "      <td>49.64</td>\n",
              "      <td>112.00</td>\n",
              "      <td>0.67</td>\n",
              "      <td>9.00</td>\n",
              "    </tr>\n",
              "    <tr>\n",
              "      <th>max</th>\n",
              "      <td>63157.00</td>\n",
              "      <td>1.0</td>\n",
              "      <td>2015.00</td>\n",
              "      <td>108.00</td>\n",
              "      <td>1.00</td>\n",
              "      <td>186.00</td>\n",
              "      <td>71.11</td>\n",
              "      <td>186.00</td>\n",
              "      <td>0.98</td>\n",
              "      <td>68.00</td>\n",
              "    </tr>\n",
              "  </tbody>\n",
              "</table>\n",
              "</div>"
            ],
            "text/plain": [
              "       gameorder   _iscopy    year_id  seasongame  is_playoffs        pts  \\\n",
              "count  126314.00  126314.0  126314.00   126314.00    126314.00  126314.00   \n",
              "mean    31579.00       0.5    1988.20       43.53         0.06     102.73   \n",
              "std     18231.93       0.5      17.58       25.38         0.24      14.81   \n",
              "min         1.00       0.0    1947.00        1.00         0.00       0.00   \n",
              "25%     15790.00       0.0    1975.00       22.00         0.00      93.00   \n",
              "50%     31579.00       0.5    1990.00       43.00         0.00     103.00   \n",
              "75%     47368.00       1.0    2003.00       65.00         0.00     112.00   \n",
              "max     63157.00       1.0    2015.00      108.00         1.00     186.00   \n",
              "\n",
              "       win_equiv    opp_pts   forecast  differnce  \n",
              "count  126314.00  126314.00  126314.00  126314.00  \n",
              "mean       41.71     102.73       0.50       0.00  \n",
              "std        10.63      14.81       0.22      13.37  \n",
              "min        10.15       0.00       0.02     -68.00  \n",
              "25%        34.10      93.00       0.33      -9.00  \n",
              "50%        42.11     103.00       0.50       0.00  \n",
              "75%        49.64     112.00       0.67       9.00  \n",
              "max        71.11     186.00       0.98      68.00  "
            ]
          },
          "metadata": {
            "tags": []
          },
          "execution_count": 190
        }
      ]
    },
    {
      "cell_type": "markdown",
      "metadata": {
        "id": "jheuZsxhmu0Y",
        "colab_type": "text"
      },
      "source": [
        "What about pts? How can the minimum be 0? Let’s have a look at those games:"
      ]
    },
    {
      "cell_type": "code",
      "metadata": {
        "id": "rKfuFqmwme9t",
        "colab_type": "code",
        "outputId": "09b0ebec-3002-4918-c325-1a63b3c39da1",
        "colab": {
          "base_uri": "https://localhost:8080/",
          "height": 151
        }
      },
      "source": [
        "copy[copy[\"pts\"]==0]"
      ],
      "execution_count": 0,
      "outputs": [
        {
          "output_type": "execute_result",
          "data": {
            "text/html": [
              "<div>\n",
              "<style scoped>\n",
              "    .dataframe tbody tr th:only-of-type {\n",
              "        vertical-align: middle;\n",
              "    }\n",
              "\n",
              "    .dataframe tbody tr th {\n",
              "        vertical-align: top;\n",
              "    }\n",
              "\n",
              "    .dataframe thead th {\n",
              "        text-align: right;\n",
              "    }\n",
              "</style>\n",
              "<table border=\"1\" class=\"dataframe\">\n",
              "  <thead>\n",
              "    <tr style=\"text-align: right;\">\n",
              "      <th></th>\n",
              "      <th>gameorder</th>\n",
              "      <th>game_id</th>\n",
              "      <th>lg_id</th>\n",
              "      <th>_iscopy</th>\n",
              "      <th>year_id</th>\n",
              "      <th>date_game</th>\n",
              "      <th>seasongame</th>\n",
              "      <th>is_playoffs</th>\n",
              "      <th>team_id</th>\n",
              "      <th>fran_id</th>\n",
              "      <th>pts</th>\n",
              "      <th>win_equiv</th>\n",
              "      <th>opp_id</th>\n",
              "      <th>opp_fran</th>\n",
              "      <th>opp_pts</th>\n",
              "      <th>game_location</th>\n",
              "      <th>game_result</th>\n",
              "      <th>forecast</th>\n",
              "      <th>notes</th>\n",
              "      <th>differnce</th>\n",
              "    </tr>\n",
              "  </thead>\n",
              "  <tbody>\n",
              "    <tr>\n",
              "      <th>26684</th>\n",
              "      <td>13343</td>\n",
              "      <td>197210260VIR</td>\n",
              "      <td>ABA</td>\n",
              "      <td>1</td>\n",
              "      <td>1973</td>\n",
              "      <td>1972-10-26</td>\n",
              "      <td>7</td>\n",
              "      <td>0</td>\n",
              "      <td>DNR</td>\n",
              "      <td>Nuggets</td>\n",
              "      <td>0</td>\n",
              "      <td>40.41</td>\n",
              "      <td>VIR</td>\n",
              "      <td>Squires</td>\n",
              "      <td>2</td>\n",
              "      <td>A</td>\n",
              "      <td>L</td>\n",
              "      <td>0.33</td>\n",
              "      <td>at Richmond VA; forfeit to VIR</td>\n",
              "      <td>-2</td>\n",
              "    </tr>\n",
              "  </tbody>\n",
              "</table>\n",
              "</div>"
            ],
            "text/plain": [
              "       gameorder       game_id lg_id  _iscopy  year_id  date_game  seasongame  \\\n",
              "26684      13343  197210260VIR   ABA        1     1973 1972-10-26           7   \n",
              "\n",
              "       is_playoffs team_id  fran_id  pts  win_equiv opp_id opp_fran  opp_pts  \\\n",
              "26684            0     DNR  Nuggets    0      40.41    VIR  Squires        2   \n",
              "\n",
              "      game_location game_result  forecast                           notes  \\\n",
              "26684             A           L      0.33  at Richmond VA; forfeit to VIR   \n",
              "\n",
              "       differnce  \n",
              "26684         -2  "
            ]
          },
          "metadata": {
            "tags": []
          },
          "execution_count": 191
        }
      ]
    },
    {
      "cell_type": "markdown",
      "metadata": {
        "id": "ZJdxLhCXnCqH",
        "colab_type": "text"
      },
      "source": [
        "It seems the game was forfeited. Depending on your analysis, you may want to remove it from the dataset."
      ]
    },
    {
      "cell_type": "markdown",
      "metadata": {
        "id": "DYKqBpB5pDcl",
        "colab_type": "text"
      },
      "source": [
        "## Inconsistent Values"
      ]
    },
    {
      "cell_type": "markdown",
      "metadata": {
        "id": "Z6PEAaNfpbrJ",
        "colab_type": "text"
      },
      "source": [
        "In the NBA dataset, the values of the fields pts, opp_pts and game_result should be consistent with each other. You can check this using the .empty attribute:"
      ]
    },
    {
      "cell_type": "code",
      "metadata": {
        "id": "IN805DOemyTU",
        "colab_type": "code",
        "outputId": "6cfe438b-f511-4582-d176-60963a7de1b4",
        "colab": {
          "base_uri": "https://localhost:8080/",
          "height": 34
        }
      },
      "source": [
        "copy[\n",
        "    (copy[\"pts\"] > copy[\"opp_pts\"]) &\n",
        "    (copy[\"game_result\"]!= 'W')].empty"
      ],
      "execution_count": 0,
      "outputs": [
        {
          "output_type": "execute_result",
          "data": {
            "text/plain": [
              "True"
            ]
          },
          "metadata": {
            "tags": []
          },
          "execution_count": 197
        }
      ]
    },
    {
      "cell_type": "code",
      "metadata": {
        "id": "puMQ1uCgnLCj",
        "colab_type": "code",
        "outputId": "81512977-9f56-4654-acb3-69b23b722c39",
        "colab": {
          "base_uri": "https://localhost:8080/",
          "height": 34
        }
      },
      "source": [
        "copy[\n",
        "    (copy[\"pts\"] < copy[\"opp_pts\"]) &\n",
        "    (copy[\"game_result\"]!= 'L')].empty\n"
      ],
      "execution_count": 0,
      "outputs": [
        {
          "output_type": "execute_result",
          "data": {
            "text/plain": [
              "True"
            ]
          },
          "metadata": {
            "tags": []
          },
          "execution_count": 198
        }
      ]
    },
    {
      "cell_type": "markdown",
      "metadata": {
        "id": "b9wYwSekqOzS",
        "colab_type": "text"
      },
      "source": [
        "## Combining Multiple Datasets"
      ]
    },
    {
      "cell_type": "code",
      "metadata": {
        "id": "X_H9CwuOqHe1",
        "colab_type": "code",
        "colab": {}
      },
      "source": [
        "%matplotlib inline"
      ],
      "execution_count": 0,
      "outputs": []
    },
    {
      "cell_type": "markdown",
      "metadata": {
        "id": "TA2Lej8VxaAk",
        "colab_type": "text"
      },
      "source": [
        "## Visualizing Your Pandas DataFrame"
      ]
    },
    {
      "cell_type": "markdown",
      "metadata": {
        "id": "Zknkls_vxO7Q",
        "colab_type": "text"
      },
      "source": [
        "Both Series and DataFrame objects have a .plot() method, which is a wrapper around matplotlib.pyplot.plot(). By default, it creates a line plot. "
      ]
    },
    {
      "cell_type": "markdown",
      "metadata": {
        "id": "PAcwjcCJxTp7",
        "colab_type": "text"
      },
      "source": [
        "### How many points the Knicks scored throughout the seasons?"
      ]
    },
    {
      "cell_type": "code",
      "metadata": {
        "id": "CwzkeKv2xHAC",
        "colab_type": "code",
        "outputId": "32e053dc-d41c-45c4-e12c-de4c10c49d45",
        "colab": {
          "base_uri": "https://localhost:8080/",
          "height": 297
        }
      },
      "source": [
        "copy[copy[\"fran_id\"]==\"Knicks\"].groupby(\"year_id\")[\"pts\"].sum().plot()"
      ],
      "execution_count": 0,
      "outputs": [
        {
          "output_type": "execute_result",
          "data": {
            "text/plain": [
              "<matplotlib.axes._subplots.AxesSubplot at 0x7f97ca4e1438>"
            ]
          },
          "metadata": {
            "tags": []
          },
          "execution_count": 201
        },
        {
          "output_type": "display_data",
          "data": {
            "image/png": "[encoded data removed]",
            "text/plain": [
              "<Figure size 432x288 with 1 Axes>"
            ]
          },
          "metadata": {
            "tags": [],
            "needs_background": "light"
          }
        }
      ]
    },
    {
      "cell_type": "markdown",
      "metadata": {
        "id": "ZKu_P_4dyI05",
        "colab_type": "text"
      },
      "source": [
        "You can also create other types of plots, like a **bar plot**:"
      ]
    },
    {
      "cell_type": "code",
      "metadata": {
        "id": "9FySFok7yBq7",
        "colab_type": "code",
        "outputId": "23595493-2fe0-44df-df0d-464ea79f00ed",
        "colab": {
          "base_uri": "https://localhost:8080/",
          "height": 329
        }
      },
      "source": [
        "copy[\"fran_id\"].value_counts().head(20).plot(kind=\"bar\")"
      ],
      "execution_count": 0,
      "outputs": [
        {
          "output_type": "execute_result",
          "data": {
            "text/plain": [
              "<matplotlib.axes._subplots.AxesSubplot at 0x7f97ca494fd0>"
            ]
          },
          "metadata": {
            "tags": []
          },
          "execution_count": 203
        },
        {
          "output_type": "display_data",
          "data": {
            "image/png": "[encoded data removed]",
            "text/plain": [
              "<Figure size 432x288 with 1 Axes>"
            ]
          },
          "metadata": {
            "tags": [],
            "needs_background": "light"
          }
        }
      ]
    },
    {
      "cell_type": "markdown",
      "metadata": {
        "id": "1iNY7c4RywVV",
        "colab_type": "text"
      },
      "source": [
        "The Lakers are leading the Celtics by a minimal edge, and there are six further teams with a game count above 4000."
      ]
    },
    {
      "cell_type": "markdown",
      "metadata": {
        "id": "K1kqRqoXy2yr",
        "colab_type": "text"
      },
      "source": [
        "###  In 2013, the Miami Heat won the championship. Create a pie plot showing the count of their wins and losses during that season?"
      ]
    },
    {
      "cell_type": "code",
      "metadata": {
        "id": "nFTazB1VyjEK",
        "colab_type": "code",
        "outputId": "39b6720d-c73e-4669-b6c2-56062eb31b00",
        "colab": {
          "base_uri": "https://localhost:8080/",
          "height": 265
        }
      },
      "source": [
        "copy[\n",
        "     (copy[\"year_id\"]==2013) &\n",
        "     (copy[\"fran_id\"]==\"Heat\")\n",
        "     ][\"game_result\"].value_counts().plot(kind=\"pie\")"
      ],
      "execution_count": 0,
      "outputs": [
        {
          "output_type": "execute_result",
          "data": {
            "text/plain": [
              "<matplotlib.axes._subplots.AxesSubplot at 0x7f97c9e07390>"
            ]
          },
          "metadata": {
            "tags": []
          },
          "execution_count": 211
        },
        {
          "output_type": "display_data",
          "data": {
            "image/png": "[encoded data removed]",
            "text/plain": [
              "<Figure size 432x288 with 1 Axes>"
            ]
          },
          "metadata": {
            "tags": []
          }
        }
      ]
    },
    {
      "cell_type": "markdown",
      "metadata": {
        "id": "upJbjuHO0A1c",
        "colab_type": "text"
      },
      "source": [
        "The slice of wins is significantly larger than the slice of losses!"
      ]
    },
    {
      "cell_type": "markdown",
      "metadata": {
        "id": "DjuYO2AO0ELz",
        "colab_type": "text"
      },
      "source": [
        "## Conclusion"
      ]
    },
    {
      "cell_type": "markdown",
      "metadata": {
        "id": "a2qh3fgN0KyX",
        "colab_type": "text"
      },
      "source": [
        "In this tutorial, you’ve learned how to start exploring a dataset with the Pandas Python library. You saw how you could access specific rows and columns to tame even the largest of datasets. Speaking of taming, you’ve also seen multiple techniques to prepare and clean your data, by specifying the data type of columns, dealing with missing values, and more. You’ve even created queries, aggregations, and plots based on those."
      ]
    },
    {
      "cell_type": "markdown",
      "metadata": {
        "id": "jZiW5Ljz0O3M",
        "colab_type": "text"
      },
      "source": [
        "Now you can:\n",
        "\n",
        "\n",
        "*   Work with Series and DataFrame objects\n",
        "*   Subset your data with .loc, .iloc, and the indexing operator\n",
        "*   Answer questions with queries, grouping, and aggregation\n",
        "*   Handle missing, invalid, and inconsistent data\n",
        "*   Visualize your dataset in a Jupyter notebook"
      ]
    },
    {
      "cell_type": "code",
      "metadata": {
        "id": "zfzM0eSG0Fcv",
        "colab_type": "code",
        "colab": {}
      },
      "source": [
        ""
      ],
      "execution_count": 0,
      "outputs": []
    }
  ]
}