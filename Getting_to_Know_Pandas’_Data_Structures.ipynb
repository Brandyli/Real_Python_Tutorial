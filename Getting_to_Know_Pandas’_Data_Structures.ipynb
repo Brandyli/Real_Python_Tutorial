{
  "nbformat": 4,
  "nbformat_minor": 0,
  "metadata": {
    "colab": {
      "name": "Getting to Know Pandas’ Data Structures.ipynb",
      "provenance": [],
      "collapsed_sections": []
    },
    "kernelspec": {
      "name": "python3",
      "display_name": "Python 3"
    }
  },
  "cells": [
    {
      "cell_type": "markdown",
      "metadata": {
        "id": "U5sEvTAH-iVE",
        "colab_type": "text"
      },
      "source": [
        "# Getting to Know Pandas’ Data Structures"
      ]
    },
    {
      "cell_type": "markdown",
      "metadata": {
        "id": "CZq5_eb5-mmt",
        "colab_type": "text"
      },
      "source": [
        "## Understanding Series Objects"
      ]
    },
    {
      "cell_type": "markdown",
      "metadata": {
        "id": "zTlERlGt-qk8",
        "colab_type": "text"
      },
      "source": [
        "Python’s most basic data structure is the list, which is also a good starting point for getting to know pandas.Series objects. Create a new Series object based on a list:\n",
        "\n"
      ]
    },
    {
      "cell_type": "code",
      "metadata": {
        "id": "pxBgJqsq-_hw",
        "colab_type": "code",
        "colab": {}
      },
      "source": [
        "import pandas as pd"
      ],
      "execution_count": 0,
      "outputs": []
    },
    {
      "cell_type": "markdown",
      "metadata": {
        "id": "RX6Xk1LL_lZY",
        "colab_type": "text"
      },
      "source": [
        "Python’s most basic data structure is the **list**, which is also a good starting point for getting to know **pandas.Series** objects. Create a new Series object based on a list"
      ]
    },
    {
      "cell_type": "code",
      "metadata": {
        "id": "J7A3l_jP-nt_",
        "colab_type": "code",
        "outputId": "49d3dc75-eefd-4a70-b096-d01d26ce8945",
        "colab": {
          "base_uri": "https://localhost:8080/",
          "height": 85
        }
      },
      "source": [
        "revenues = pd.Series([2000,2500,3000])\n",
        "revenues"
      ],
      "execution_count": 41,
      "outputs": [
        {
          "output_type": "execute_result",
          "data": {
            "text/plain": [
              "0    2000\n",
              "1    2500\n",
              "2    3000\n",
              "dtype: int64"
            ]
          },
          "metadata": {
            "tags": []
          },
          "execution_count": 41
        }
      ]
    },
    {
      "cell_type": "markdown",
      "metadata": {
        "id": "4iW_--Zt_i6z",
        "colab_type": "text"
      },
      "source": [
        "You’ve used the list [] to create a Series object called revenues. A Series object wraps two components:\n",
        "1.   A sequence of **values**\n",
        "2.   A sequence of **identifiers**, which is the index\n",
        "\n",
        "You can access these components with .values and .index, respectively:\n",
        "\n"
      ]
    },
    {
      "cell_type": "code",
      "metadata": {
        "id": "nnmQb73V-4Jl",
        "colab_type": "code",
        "outputId": "f017adcf-9bf9-4040-a000-266163c90b89",
        "colab": {
          "base_uri": "https://localhost:8080/",
          "height": 34
        }
      },
      "source": [
        "revenues.values"
      ],
      "execution_count": 42,
      "outputs": [
        {
          "output_type": "execute_result",
          "data": {
            "text/plain": [
              "array([2000, 2500, 3000])"
            ]
          },
          "metadata": {
            "tags": []
          },
          "execution_count": 42
        }
      ]
    },
    {
      "cell_type": "code",
      "metadata": {
        "id": "8Bq41aVOAC8U",
        "colab_type": "code",
        "outputId": "ad8eb7b9-804a-495b-8a08-fff8ff193957",
        "colab": {
          "base_uri": "https://localhost:8080/",
          "height": 34
        }
      },
      "source": [
        "revenues.index"
      ],
      "execution_count": 43,
      "outputs": [
        {
          "output_type": "execute_result",
          "data": {
            "text/plain": [
              "RangeIndex(start=0, stop=3, step=1)"
            ]
          },
          "metadata": {
            "tags": []
          },
          "execution_count": 43
        }
      ]
    },
    {
      "cell_type": "code",
      "metadata": {
        "id": "vDO3PQzbAFB8",
        "colab_type": "code",
        "outputId": "834de5a2-f430-4d2e-8e46-aa116e5092e1",
        "colab": {
          "base_uri": "https://localhost:8080/",
          "height": 34
        }
      },
      "source": [
        "type(revenues.values)"
      ],
      "execution_count": 44,
      "outputs": [
        {
          "output_type": "execute_result",
          "data": {
            "text/plain": [
              "numpy.ndarray"
            ]
          },
          "metadata": {
            "tags": []
          },
          "execution_count": 44
        }
      ]
    },
    {
      "cell_type": "markdown",
      "metadata": {
        "id": "vMwt4KTDAaaG",
        "colab_type": "text"
      },
      "source": [
        "While Pandas builds on NumPy, a significant difference is in their indexing. Just like a NumPy array, a Pandas Series also has an integer index that’s implicitly defined. This implicit index indicates the element’s position in the Series.\n",
        "\n",
        "However, a Series can also have an arbitrary type of index. You can think of this explicit index as labels for a specific row:"
      ]
    },
    {
      "cell_type": "code",
      "metadata": {
        "id": "vDpFJAcgAMZ7",
        "colab_type": "code",
        "colab": {}
      },
      "source": [
        "city_revenues = pd.Series([50000,60000,80000], index=['NY','NJ','FL'])"
      ],
      "execution_count": 0,
      "outputs": []
    },
    {
      "cell_type": "code",
      "metadata": {
        "id": "ZVn3JvH0Axq-",
        "colab_type": "code",
        "outputId": "cded22d8-083a-41d0-f81d-ff91c7b58022",
        "colab": {
          "base_uri": "https://localhost:8080/",
          "height": 85
        }
      },
      "source": [
        "city_revenues"
      ],
      "execution_count": 46,
      "outputs": [
        {
          "output_type": "execute_result",
          "data": {
            "text/plain": [
              "NY    50000\n",
              "NJ    60000\n",
              "FL    80000\n",
              "dtype: int64"
            ]
          },
          "metadata": {
            "tags": []
          },
          "execution_count": 46
        }
      ]
    },
    {
      "cell_type": "markdown",
      "metadata": {
        "id": "ZZ8JIDGdA4Ko",
        "colab_type": "text"
      },
      "source": [
        "Here, the index is a list of city names represented by strings. You may have noticed that Python dictionaries use string indices as well, and this is a handy analogy to keep in mind! You can use the code blocks above to distinguish between two types of Series:\n",
        "\n",
        "1.   **revenues**: This Series behaves like a Python list because it only has a positional index.\n",
        "2.   **city_revenues**: This Series acts like a Python dictionary because it features both a positional and a label index.\n",
        "\n",
        "Here’s how to construct a Series with a label index from a Python dictionary:"
      ]
    },
    {
      "cell_type": "code",
      "metadata": {
        "id": "YDBTFI_6Ay1m",
        "colab_type": "code",
        "colab": {}
      },
      "source": [
        "city_unemployment = pd.Series({'NY':10,'NJ':8})"
      ],
      "execution_count": 0,
      "outputs": []
    },
    {
      "cell_type": "code",
      "metadata": {
        "id": "brixjKI6BvdS",
        "colab_type": "code",
        "outputId": "a535b5bf-1286-4781-d8ab-1df6933f24bb",
        "colab": {
          "base_uri": "https://localhost:8080/",
          "height": 68
        }
      },
      "source": [
        "city_unemployment"
      ],
      "execution_count": 48,
      "outputs": [
        {
          "output_type": "execute_result",
          "data": {
            "text/plain": [
              "NY    10\n",
              "NJ     8\n",
              "dtype: int64"
            ]
          },
          "metadata": {
            "tags": []
          },
          "execution_count": 48
        }
      ]
    },
    {
      "cell_type": "markdown",
      "metadata": {
        "id": "epPSpJnlB2uB",
        "colab_type": "text"
      },
      "source": [
        "The dictionary keys become the index, and the dictionary values are the Series values.\n",
        "\n",
        "Just like dictionaries, Series also support .keys() and the in keyword:"
      ]
    },
    {
      "cell_type": "code",
      "metadata": {
        "id": "t4A4eWGYBxJy",
        "colab_type": "code",
        "outputId": "9cc36251-a67c-4707-8edb-9007f3fa7c1f",
        "colab": {
          "base_uri": "https://localhost:8080/",
          "height": 34
        }
      },
      "source": [
        "city_unemployment.keys()"
      ],
      "execution_count": 49,
      "outputs": [
        {
          "output_type": "execute_result",
          "data": {
            "text/plain": [
              "Index(['NY', 'NJ'], dtype='object')"
            ]
          },
          "metadata": {
            "tags": []
          },
          "execution_count": 49
        }
      ]
    },
    {
      "cell_type": "code",
      "metadata": {
        "id": "djKsJogkCD2a",
        "colab_type": "code",
        "outputId": "bbe3e8c4-d205-40b1-f218-73f9c69c73d4",
        "colab": {
          "base_uri": "https://localhost:8080/",
          "height": 34
        }
      },
      "source": [
        "'NY' in city_unemployment"
      ],
      "execution_count": 50,
      "outputs": [
        {
          "output_type": "execute_result",
          "data": {
            "text/plain": [
              "True"
            ]
          },
          "metadata": {
            "tags": []
          },
          "execution_count": 50
        }
      ]
    },
    {
      "cell_type": "code",
      "metadata": {
        "id": "-tP44r0qCF2E",
        "colab_type": "code",
        "outputId": "ae5bb761-4132-476f-8971-ea58762c4274",
        "colab": {
          "base_uri": "https://localhost:8080/",
          "height": 34
        }
      },
      "source": [
        "'FL' in city_unemployment"
      ],
      "execution_count": 51,
      "outputs": [
        {
          "output_type": "execute_result",
          "data": {
            "text/plain": [
              "False"
            ]
          },
          "metadata": {
            "tags": []
          },
          "execution_count": 51
        }
      ]
    },
    {
      "cell_type": "markdown",
      "metadata": {
        "id": "4DAEgDNZCOAc",
        "colab_type": "text"
      },
      "source": [
        "## Understanding DataFrame Objects"
      ]
    },
    {
      "cell_type": "markdown",
      "metadata": {
        "id": "nmO_tgJRCail",
        "colab_type": "text"
      },
      "source": [
        "While a Series is a pretty powerful data structure, it has its **limitations**. For example, you can only store one attribute per key. As you’ve seen with the nba dataset, which features 23 columns, the Pandas Python library has more to offer with its **DataFrame**. This data structure is a sequence of Series objects that share the same index.\n",
        "\n",
        "If you’ve followed along with the Series examples, then you should already have two Series objects with cities as keys:\n",
        "\n",
        "\n",
        "1.   city_revenues\n",
        "2.   city_unemployment\n",
        "\n",
        "\n",
        "You can combine these objects into a DataFrame by providing a dictionary in the constructor. **The dictionary keys will become the column names, and the values should contain the Series objects:**"
      ]
    },
    {
      "cell_type": "code",
      "metadata": {
        "id": "qg1ZMfdvCH78",
        "colab_type": "code",
        "colab": {}
      },
      "source": [
        "city = pd.DataFrame({\"revenue\": city_revenues, \"unemployment\":city_unemployment})"
      ],
      "execution_count": 0,
      "outputs": []
    },
    {
      "cell_type": "code",
      "metadata": {
        "id": "UEbcKCvZDQxn",
        "colab_type": "code",
        "outputId": "ad365620-6883-4cc6-d074-342d0666521a",
        "colab": {
          "base_uri": "https://localhost:8080/",
          "height": 142
        }
      },
      "source": [
        "city"
      ],
      "execution_count": 53,
      "outputs": [
        {
          "output_type": "execute_result",
          "data": {
            "text/html": [
              "<div>\n",
              "<style scoped>\n",
              "    .dataframe tbody tr th:only-of-type {\n",
              "        vertical-align: middle;\n",
              "    }\n",
              "\n",
              "    .dataframe tbody tr th {\n",
              "        vertical-align: top;\n",
              "    }\n",
              "\n",
              "    .dataframe thead th {\n",
              "        text-align: right;\n",
              "    }\n",
              "</style>\n",
              "<table border=\"1\" class=\"dataframe\">\n",
              "  <thead>\n",
              "    <tr style=\"text-align: right;\">\n",
              "      <th></th>\n",
              "      <th>revenue</th>\n",
              "      <th>unemployment</th>\n",
              "    </tr>\n",
              "  </thead>\n",
              "  <tbody>\n",
              "    <tr>\n",
              "      <th>FL</th>\n",
              "      <td>80000</td>\n",
              "      <td>NaN</td>\n",
              "    </tr>\n",
              "    <tr>\n",
              "      <th>NJ</th>\n",
              "      <td>60000</td>\n",
              "      <td>8.0</td>\n",
              "    </tr>\n",
              "    <tr>\n",
              "      <th>NY</th>\n",
              "      <td>50000</td>\n",
              "      <td>10.0</td>\n",
              "    </tr>\n",
              "  </tbody>\n",
              "</table>\n",
              "</div>"
            ],
            "text/plain": [
              "    revenue  unemployment\n",
              "FL    80000           NaN\n",
              "NJ    60000           8.0\n",
              "NY    50000          10.0"
            ]
          },
          "metadata": {
            "tags": []
          },
          "execution_count": 53
        }
      ]
    },
    {
      "cell_type": "markdown",
      "metadata": {
        "id": "mv1ylSPXDbhq",
        "colab_type": "text"
      },
      "source": [
        "Note how Pandas replaced the missing unemployment value for FL with NaN.\n",
        "\n",
        "The new DataFrame index is the union of the two Series indices:"
      ]
    },
    {
      "cell_type": "code",
      "metadata": {
        "id": "XWkmbLgjDROu",
        "colab_type": "code",
        "outputId": "2c9accc8-ab9d-4d48-ca4f-ecf9c24e30d2",
        "colab": {
          "base_uri": "https://localhost:8080/",
          "height": 68
        }
      },
      "source": [
        "city.values"
      ],
      "execution_count": 54,
      "outputs": [
        {
          "output_type": "execute_result",
          "data": {
            "text/plain": [
              "array([[8.e+04,    nan],\n",
              "       [6.e+04, 8.e+00],\n",
              "       [5.e+04, 1.e+01]])"
            ]
          },
          "metadata": {
            "tags": []
          },
          "execution_count": 54
        }
      ]
    },
    {
      "cell_type": "code",
      "metadata": {
        "id": "sHx-_F6ADlz5",
        "colab_type": "code",
        "outputId": "b4641f84-1e2d-466b-f0cf-499b4275c5b6",
        "colab": {
          "base_uri": "https://localhost:8080/",
          "height": 34
        }
      },
      "source": [
        "city.index"
      ],
      "execution_count": 55,
      "outputs": [
        {
          "output_type": "execute_result",
          "data": {
            "text/plain": [
              "Index(['FL', 'NJ', 'NY'], dtype='object')"
            ]
          },
          "metadata": {
            "tags": []
          },
          "execution_count": 55
        }
      ]
    },
    {
      "cell_type": "code",
      "metadata": {
        "id": "9sWMW4-rEAUE",
        "colab_type": "code",
        "outputId": "8e15ac5c-6521-408d-a066-94206dd552c8",
        "colab": {
          "base_uri": "https://localhost:8080/",
          "height": 51
        }
      },
      "source": [
        "city.axes"
      ],
      "execution_count": 56,
      "outputs": [
        {
          "output_type": "execute_result",
          "data": {
            "text/plain": [
              "[Index(['FL', 'NJ', 'NY'], dtype='object'),\n",
              " Index(['revenue', 'unemployment'], dtype='object')]"
            ]
          },
          "metadata": {
            "tags": []
          },
          "execution_count": 56
        }
      ]
    },
    {
      "cell_type": "markdown",
      "metadata": {
        "id": "9uhc9STCDaWE",
        "colab_type": "text"
      },
      "source": [
        "The axis marked with **0** is the **row** index, and the axis marked with 1 is the **column** index. This terminology is important to know because you’ll encounter several DataFrame methods that accept an axis parameter."
      ]
    },
    {
      "cell_type": "code",
      "metadata": {
        "id": "zprVbowuD9_n",
        "colab_type": "code",
        "outputId": "8e9403d2-8fb0-40af-faee-a6653a413e29",
        "colab": {
          "base_uri": "https://localhost:8080/",
          "height": 34
        }
      },
      "source": [
        "city.axes[0]"
      ],
      "execution_count": 57,
      "outputs": [
        {
          "output_type": "execute_result",
          "data": {
            "text/plain": [
              "Index(['FL', 'NJ', 'NY'], dtype='object')"
            ]
          },
          "metadata": {
            "tags": []
          },
          "execution_count": 57
        }
      ]
    },
    {
      "cell_type": "code",
      "metadata": {
        "id": "O6SetGYQEE6T",
        "colab_type": "code",
        "outputId": "d64f828a-6f09-4180-e655-382837092355",
        "colab": {
          "base_uri": "https://localhost:8080/",
          "height": 34
        }
      },
      "source": [
        "city.axes[1]"
      ],
      "execution_count": 58,
      "outputs": [
        {
          "output_type": "execute_result",
          "data": {
            "text/plain": [
              "Index(['revenue', 'unemployment'], dtype='object')"
            ]
          },
          "metadata": {
            "tags": []
          },
          "execution_count": 58
        }
      ]
    },
    {
      "cell_type": "code",
      "metadata": {
        "id": "xMbEQxn4EJbM",
        "colab_type": "code",
        "outputId": "7c7c16db-4611-42d9-bcd7-17c600c8af82",
        "colab": {
          "base_uri": "https://localhost:8080/",
          "height": 34
        }
      },
      "source": [
        "city.keys()"
      ],
      "execution_count": 59,
      "outputs": [
        {
          "output_type": "execute_result",
          "data": {
            "text/plain": [
              "Index(['revenue', 'unemployment'], dtype='object')"
            ]
          },
          "metadata": {
            "tags": []
          },
          "execution_count": 59
        }
      ]
    },
    {
      "cell_type": "markdown",
      "metadata": {
        "id": "66yrQbj0qkQn",
        "colab_type": "text"
      },
      "source": [
        "## Combining Multiple Datasets"
      ]
    },
    {
      "cell_type": "markdown",
      "metadata": {
        "id": "iZuLs0_Zqote",
        "colab_type": "text"
      },
      "source": [
        "Now, you’ll take this one step further and use .concat() to combine city_data with another DataFrame. Say you’ve managed to gather some data on two more cities:"
      ]
    },
    {
      "cell_type": "code",
      "metadata": {
        "id": "3V0i33vqEM_X",
        "colab_type": "code",
        "colab": {}
      },
      "source": [
        "further = pd.DataFrame(\n",
        "    {\"revenue\":[30000,40000],\"unemployment\":[100,300]}, \n",
        "    index=['CA','PA']\n",
        ")"
      ],
      "execution_count": 0,
      "outputs": []
    },
    {
      "cell_type": "code",
      "metadata": {
        "id": "RvckUpKxrI9F",
        "colab_type": "code",
        "colab": {
          "base_uri": "https://localhost:8080/",
          "height": 204
        },
        "outputId": "027961d1-1c90-4343-c294-c42213ec7512"
      },
      "source": [
        "All_concat_with_row = pd.concat([city, further], sort=False)\n",
        "All"
      ],
      "execution_count": 61,
      "outputs": [
        {
          "output_type": "execute_result",
          "data": {
            "text/html": [
              "<div>\n",
              "<style scoped>\n",
              "    .dataframe tbody tr th:only-of-type {\n",
              "        vertical-align: middle;\n",
              "    }\n",
              "\n",
              "    .dataframe tbody tr th {\n",
              "        vertical-align: top;\n",
              "    }\n",
              "\n",
              "    .dataframe thead th {\n",
              "        text-align: right;\n",
              "    }\n",
              "</style>\n",
              "<table border=\"1\" class=\"dataframe\">\n",
              "  <thead>\n",
              "    <tr style=\"text-align: right;\">\n",
              "      <th></th>\n",
              "      <th>revenue</th>\n",
              "      <th>unemployment</th>\n",
              "    </tr>\n",
              "  </thead>\n",
              "  <tbody>\n",
              "    <tr>\n",
              "      <th>FL</th>\n",
              "      <td>80000</td>\n",
              "      <td>NaN</td>\n",
              "    </tr>\n",
              "    <tr>\n",
              "      <th>NJ</th>\n",
              "      <td>60000</td>\n",
              "      <td>8.0</td>\n",
              "    </tr>\n",
              "    <tr>\n",
              "      <th>NY</th>\n",
              "      <td>50000</td>\n",
              "      <td>10.0</td>\n",
              "    </tr>\n",
              "    <tr>\n",
              "      <th>CA</th>\n",
              "      <td>30000</td>\n",
              "      <td>100.0</td>\n",
              "    </tr>\n",
              "    <tr>\n",
              "      <th>PA</th>\n",
              "      <td>40000</td>\n",
              "      <td>300.0</td>\n",
              "    </tr>\n",
              "  </tbody>\n",
              "</table>\n",
              "</div>"
            ],
            "text/plain": [
              "    revenue  unemployment\n",
              "FL    80000           NaN\n",
              "NJ    60000           8.0\n",
              "NY    50000          10.0\n",
              "CA    30000         100.0\n",
              "PA    40000         300.0"
            ]
          },
          "metadata": {
            "tags": []
          },
          "execution_count": 61
        }
      ]
    },
    {
      "cell_type": "markdown",
      "metadata": {
        "id": "gVc9JLZ5sXyx",
        "colab_type": "text"
      },
      "source": [
        "Choice 1: Note how Pandas added NaN for the missing values. If you want to combine only the cities that appear in both DataFrame objects, then you can set the **join** parameter to inner:\n"
      ]
    },
    {
      "cell_type": "code",
      "metadata": {
        "id": "mFzBopEmrrEX",
        "colab_type": "code",
        "colab": {
          "base_uri": "https://localhost:8080/",
          "height": 204
        },
        "outputId": "e5441c51-7a70-4cb0-8e18-2fab7aff4e65"
      },
      "source": [
        "city_countries = pd.DataFrame({\n",
        "    \"country\": [\"US\", \"US\", \"US\", \"US\", \"US\"],\n",
        "    \"capital\": [1, 1, 0, 0, 0]},\n",
        "    index=[\"FL\", \"NJ\", \"NY\", \"CA\", \"PA\"])\n",
        "All_concat_with_column = pd.concat([All_concat_with_row, city_countries], axis = 1, join = \"inner\", sort=False)\n",
        "All_concat_with_column"
      ],
      "execution_count": 62,
      "outputs": [
        {
          "output_type": "execute_result",
          "data": {
            "text/html": [
              "<div>\n",
              "<style scoped>\n",
              "    .dataframe tbody tr th:only-of-type {\n",
              "        vertical-align: middle;\n",
              "    }\n",
              "\n",
              "    .dataframe tbody tr th {\n",
              "        vertical-align: top;\n",
              "    }\n",
              "\n",
              "    .dataframe thead th {\n",
              "        text-align: right;\n",
              "    }\n",
              "</style>\n",
              "<table border=\"1\" class=\"dataframe\">\n",
              "  <thead>\n",
              "    <tr style=\"text-align: right;\">\n",
              "      <th></th>\n",
              "      <th>revenue</th>\n",
              "      <th>unemployment</th>\n",
              "      <th>country</th>\n",
              "      <th>capital</th>\n",
              "    </tr>\n",
              "  </thead>\n",
              "  <tbody>\n",
              "    <tr>\n",
              "      <th>FL</th>\n",
              "      <td>80000</td>\n",
              "      <td>NaN</td>\n",
              "      <td>US</td>\n",
              "      <td>1</td>\n",
              "    </tr>\n",
              "    <tr>\n",
              "      <th>NJ</th>\n",
              "      <td>60000</td>\n",
              "      <td>8.0</td>\n",
              "      <td>US</td>\n",
              "      <td>1</td>\n",
              "    </tr>\n",
              "    <tr>\n",
              "      <th>NY</th>\n",
              "      <td>50000</td>\n",
              "      <td>10.0</td>\n",
              "      <td>US</td>\n",
              "      <td>0</td>\n",
              "    </tr>\n",
              "    <tr>\n",
              "      <th>CA</th>\n",
              "      <td>30000</td>\n",
              "      <td>100.0</td>\n",
              "      <td>US</td>\n",
              "      <td>0</td>\n",
              "    </tr>\n",
              "    <tr>\n",
              "      <th>PA</th>\n",
              "      <td>40000</td>\n",
              "      <td>300.0</td>\n",
              "      <td>US</td>\n",
              "      <td>0</td>\n",
              "    </tr>\n",
              "  </tbody>\n",
              "</table>\n",
              "</div>"
            ],
            "text/plain": [
              "    revenue  unemployment country  capital\n",
              "FL    80000           NaN      US        1\n",
              "NJ    60000           8.0      US        1\n",
              "NY    50000          10.0      US        0\n",
              "CA    30000         100.0      US        0\n",
              "PA    40000         300.0      US        0"
            ]
          },
          "metadata": {
            "tags": []
          },
          "execution_count": 62
        }
      ]
    },
    {
      "cell_type": "markdown",
      "metadata": {
        "id": "u8z0g7XFtqtN",
        "colab_type": "text"
      },
      "source": [
        "Choice 2: You can use .merge() to implement a join operation similar to the one from SQL:\n",
        "\n"
      ]
    },
    {
      "cell_type": "code",
      "metadata": {
        "id": "qj1xeF1Xr_QT",
        "colab_type": "code",
        "colab": {
          "base_uri": "https://localhost:8080/",
          "height": 514
        },
        "outputId": "c953af19-6bd8-4e98-89fc-f9a75e8c5c80"
      },
      "source": [
        "countries = pd.DataFrame({\n",
        "    \"population_millions\": [17, 127, 37],\n",
        "    \"continent\": [\"North America\", \"North America\",\"North America\"]\n",
        "    }, index= [\"US\", \"US\", \"US\"])\n",
        "pd.merge(All_concat_with_column, countries, left_on=\"country\", right_index=True)"
      ],
      "execution_count": 63,
      "outputs": [
        {
          "output_type": "execute_result",
          "data": {
            "text/html": [
              "<div>\n",
              "<style scoped>\n",
              "    .dataframe tbody tr th:only-of-type {\n",
              "        vertical-align: middle;\n",
              "    }\n",
              "\n",
              "    .dataframe tbody tr th {\n",
              "        vertical-align: top;\n",
              "    }\n",
              "\n",
              "    .dataframe thead th {\n",
              "        text-align: right;\n",
              "    }\n",
              "</style>\n",
              "<table border=\"1\" class=\"dataframe\">\n",
              "  <thead>\n",
              "    <tr style=\"text-align: right;\">\n",
              "      <th></th>\n",
              "      <th>revenue</th>\n",
              "      <th>unemployment</th>\n",
              "      <th>country</th>\n",
              "      <th>capital</th>\n",
              "      <th>population_millions</th>\n",
              "      <th>continent</th>\n",
              "    </tr>\n",
              "  </thead>\n",
              "  <tbody>\n",
              "    <tr>\n",
              "      <th>FL</th>\n",
              "      <td>80000</td>\n",
              "      <td>NaN</td>\n",
              "      <td>US</td>\n",
              "      <td>1</td>\n",
              "      <td>17</td>\n",
              "      <td>North America</td>\n",
              "    </tr>\n",
              "    <tr>\n",
              "      <th>FL</th>\n",
              "      <td>80000</td>\n",
              "      <td>NaN</td>\n",
              "      <td>US</td>\n",
              "      <td>1</td>\n",
              "      <td>127</td>\n",
              "      <td>North America</td>\n",
              "    </tr>\n",
              "    <tr>\n",
              "      <th>FL</th>\n",
              "      <td>80000</td>\n",
              "      <td>NaN</td>\n",
              "      <td>US</td>\n",
              "      <td>1</td>\n",
              "      <td>37</td>\n",
              "      <td>North America</td>\n",
              "    </tr>\n",
              "    <tr>\n",
              "      <th>NJ</th>\n",
              "      <td>60000</td>\n",
              "      <td>8.0</td>\n",
              "      <td>US</td>\n",
              "      <td>1</td>\n",
              "      <td>17</td>\n",
              "      <td>North America</td>\n",
              "    </tr>\n",
              "    <tr>\n",
              "      <th>NJ</th>\n",
              "      <td>60000</td>\n",
              "      <td>8.0</td>\n",
              "      <td>US</td>\n",
              "      <td>1</td>\n",
              "      <td>127</td>\n",
              "      <td>North America</td>\n",
              "    </tr>\n",
              "    <tr>\n",
              "      <th>NJ</th>\n",
              "      <td>60000</td>\n",
              "      <td>8.0</td>\n",
              "      <td>US</td>\n",
              "      <td>1</td>\n",
              "      <td>37</td>\n",
              "      <td>North America</td>\n",
              "    </tr>\n",
              "    <tr>\n",
              "      <th>NY</th>\n",
              "      <td>50000</td>\n",
              "      <td>10.0</td>\n",
              "      <td>US</td>\n",
              "      <td>0</td>\n",
              "      <td>17</td>\n",
              "      <td>North America</td>\n",
              "    </tr>\n",
              "    <tr>\n",
              "      <th>NY</th>\n",
              "      <td>50000</td>\n",
              "      <td>10.0</td>\n",
              "      <td>US</td>\n",
              "      <td>0</td>\n",
              "      <td>127</td>\n",
              "      <td>North America</td>\n",
              "    </tr>\n",
              "    <tr>\n",
              "      <th>NY</th>\n",
              "      <td>50000</td>\n",
              "      <td>10.0</td>\n",
              "      <td>US</td>\n",
              "      <td>0</td>\n",
              "      <td>37</td>\n",
              "      <td>North America</td>\n",
              "    </tr>\n",
              "    <tr>\n",
              "      <th>CA</th>\n",
              "      <td>30000</td>\n",
              "      <td>100.0</td>\n",
              "      <td>US</td>\n",
              "      <td>0</td>\n",
              "      <td>17</td>\n",
              "      <td>North America</td>\n",
              "    </tr>\n",
              "    <tr>\n",
              "      <th>CA</th>\n",
              "      <td>30000</td>\n",
              "      <td>100.0</td>\n",
              "      <td>US</td>\n",
              "      <td>0</td>\n",
              "      <td>127</td>\n",
              "      <td>North America</td>\n",
              "    </tr>\n",
              "    <tr>\n",
              "      <th>CA</th>\n",
              "      <td>30000</td>\n",
              "      <td>100.0</td>\n",
              "      <td>US</td>\n",
              "      <td>0</td>\n",
              "      <td>37</td>\n",
              "      <td>North America</td>\n",
              "    </tr>\n",
              "    <tr>\n",
              "      <th>PA</th>\n",
              "      <td>40000</td>\n",
              "      <td>300.0</td>\n",
              "      <td>US</td>\n",
              "      <td>0</td>\n",
              "      <td>17</td>\n",
              "      <td>North America</td>\n",
              "    </tr>\n",
              "    <tr>\n",
              "      <th>PA</th>\n",
              "      <td>40000</td>\n",
              "      <td>300.0</td>\n",
              "      <td>US</td>\n",
              "      <td>0</td>\n",
              "      <td>127</td>\n",
              "      <td>North America</td>\n",
              "    </tr>\n",
              "    <tr>\n",
              "      <th>PA</th>\n",
              "      <td>40000</td>\n",
              "      <td>300.0</td>\n",
              "      <td>US</td>\n",
              "      <td>0</td>\n",
              "      <td>37</td>\n",
              "      <td>North America</td>\n",
              "    </tr>\n",
              "  </tbody>\n",
              "</table>\n",
              "</div>"
            ],
            "text/plain": [
              "    revenue  unemployment country  capital  population_millions      continent\n",
              "FL    80000           NaN      US        1                   17  North America\n",
              "FL    80000           NaN      US        1                  127  North America\n",
              "FL    80000           NaN      US        1                   37  North America\n",
              "NJ    60000           8.0      US        1                   17  North America\n",
              "NJ    60000           8.0      US        1                  127  North America\n",
              "NJ    60000           8.0      US        1                   37  North America\n",
              "NY    50000          10.0      US        0                   17  North America\n",
              "NY    50000          10.0      US        0                  127  North America\n",
              "NY    50000          10.0      US        0                   37  North America\n",
              "CA    30000         100.0      US        0                   17  North America\n",
              "CA    30000         100.0      US        0                  127  North America\n",
              "CA    30000         100.0      US        0                   37  North America\n",
              "PA    40000         300.0      US        0                   17  North America\n",
              "PA    40000         300.0      US        0                  127  North America\n",
              "PA    40000         300.0      US        0                   37  North America"
            ]
          },
          "metadata": {
            "tags": []
          },
          "execution_count": 63
        }
      ]
    },
    {
      "cell_type": "code",
      "metadata": {
        "id": "KFR7FotvuYxQ",
        "colab_type": "code",
        "colab": {
          "base_uri": "https://localhost:8080/",
          "height": 514
        },
        "outputId": "60600823-79c5-4d13-b521-cfb979da0650"
      },
      "source": [
        "pd.merge(All_concat_with_column, countries,\n",
        "         left_on=\"country\",\n",
        "         right_index=True,\n",
        "         how=\"left\"\n",
        "         )"
      ],
      "execution_count": 64,
      "outputs": [
        {
          "output_type": "execute_result",
          "data": {
            "text/html": [
              "<div>\n",
              "<style scoped>\n",
              "    .dataframe tbody tr th:only-of-type {\n",
              "        vertical-align: middle;\n",
              "    }\n",
              "\n",
              "    .dataframe tbody tr th {\n",
              "        vertical-align: top;\n",
              "    }\n",
              "\n",
              "    .dataframe thead th {\n",
              "        text-align: right;\n",
              "    }\n",
              "</style>\n",
              "<table border=\"1\" class=\"dataframe\">\n",
              "  <thead>\n",
              "    <tr style=\"text-align: right;\">\n",
              "      <th></th>\n",
              "      <th>revenue</th>\n",
              "      <th>unemployment</th>\n",
              "      <th>country</th>\n",
              "      <th>capital</th>\n",
              "      <th>population_millions</th>\n",
              "      <th>continent</th>\n",
              "    </tr>\n",
              "  </thead>\n",
              "  <tbody>\n",
              "    <tr>\n",
              "      <th>FL</th>\n",
              "      <td>80000</td>\n",
              "      <td>NaN</td>\n",
              "      <td>US</td>\n",
              "      <td>1</td>\n",
              "      <td>17</td>\n",
              "      <td>North America</td>\n",
              "    </tr>\n",
              "    <tr>\n",
              "      <th>FL</th>\n",
              "      <td>80000</td>\n",
              "      <td>NaN</td>\n",
              "      <td>US</td>\n",
              "      <td>1</td>\n",
              "      <td>127</td>\n",
              "      <td>North America</td>\n",
              "    </tr>\n",
              "    <tr>\n",
              "      <th>FL</th>\n",
              "      <td>80000</td>\n",
              "      <td>NaN</td>\n",
              "      <td>US</td>\n",
              "      <td>1</td>\n",
              "      <td>37</td>\n",
              "      <td>North America</td>\n",
              "    </tr>\n",
              "    <tr>\n",
              "      <th>NJ</th>\n",
              "      <td>60000</td>\n",
              "      <td>8.0</td>\n",
              "      <td>US</td>\n",
              "      <td>1</td>\n",
              "      <td>17</td>\n",
              "      <td>North America</td>\n",
              "    </tr>\n",
              "    <tr>\n",
              "      <th>NJ</th>\n",
              "      <td>60000</td>\n",
              "      <td>8.0</td>\n",
              "      <td>US</td>\n",
              "      <td>1</td>\n",
              "      <td>127</td>\n",
              "      <td>North America</td>\n",
              "    </tr>\n",
              "    <tr>\n",
              "      <th>NJ</th>\n",
              "      <td>60000</td>\n",
              "      <td>8.0</td>\n",
              "      <td>US</td>\n",
              "      <td>1</td>\n",
              "      <td>37</td>\n",
              "      <td>North America</td>\n",
              "    </tr>\n",
              "    <tr>\n",
              "      <th>NY</th>\n",
              "      <td>50000</td>\n",
              "      <td>10.0</td>\n",
              "      <td>US</td>\n",
              "      <td>0</td>\n",
              "      <td>17</td>\n",
              "      <td>North America</td>\n",
              "    </tr>\n",
              "    <tr>\n",
              "      <th>NY</th>\n",
              "      <td>50000</td>\n",
              "      <td>10.0</td>\n",
              "      <td>US</td>\n",
              "      <td>0</td>\n",
              "      <td>127</td>\n",
              "      <td>North America</td>\n",
              "    </tr>\n",
              "    <tr>\n",
              "      <th>NY</th>\n",
              "      <td>50000</td>\n",
              "      <td>10.0</td>\n",
              "      <td>US</td>\n",
              "      <td>0</td>\n",
              "      <td>37</td>\n",
              "      <td>North America</td>\n",
              "    </tr>\n",
              "    <tr>\n",
              "      <th>CA</th>\n",
              "      <td>30000</td>\n",
              "      <td>100.0</td>\n",
              "      <td>US</td>\n",
              "      <td>0</td>\n",
              "      <td>17</td>\n",
              "      <td>North America</td>\n",
              "    </tr>\n",
              "    <tr>\n",
              "      <th>CA</th>\n",
              "      <td>30000</td>\n",
              "      <td>100.0</td>\n",
              "      <td>US</td>\n",
              "      <td>0</td>\n",
              "      <td>127</td>\n",
              "      <td>North America</td>\n",
              "    </tr>\n",
              "    <tr>\n",
              "      <th>CA</th>\n",
              "      <td>30000</td>\n",
              "      <td>100.0</td>\n",
              "      <td>US</td>\n",
              "      <td>0</td>\n",
              "      <td>37</td>\n",
              "      <td>North America</td>\n",
              "    </tr>\n",
              "    <tr>\n",
              "      <th>PA</th>\n",
              "      <td>40000</td>\n",
              "      <td>300.0</td>\n",
              "      <td>US</td>\n",
              "      <td>0</td>\n",
              "      <td>17</td>\n",
              "      <td>North America</td>\n",
              "    </tr>\n",
              "    <tr>\n",
              "      <th>PA</th>\n",
              "      <td>40000</td>\n",
              "      <td>300.0</td>\n",
              "      <td>US</td>\n",
              "      <td>0</td>\n",
              "      <td>127</td>\n",
              "      <td>North America</td>\n",
              "    </tr>\n",
              "    <tr>\n",
              "      <th>PA</th>\n",
              "      <td>40000</td>\n",
              "      <td>300.0</td>\n",
              "      <td>US</td>\n",
              "      <td>0</td>\n",
              "      <td>37</td>\n",
              "      <td>North America</td>\n",
              "    </tr>\n",
              "  </tbody>\n",
              "</table>\n",
              "</div>"
            ],
            "text/plain": [
              "    revenue  unemployment country  capital  population_millions      continent\n",
              "FL    80000           NaN      US        1                   17  North America\n",
              "FL    80000           NaN      US        1                  127  North America\n",
              "FL    80000           NaN      US        1                   37  North America\n",
              "NJ    60000           8.0      US        1                   17  North America\n",
              "NJ    60000           8.0      US        1                  127  North America\n",
              "NJ    60000           8.0      US        1                   37  North America\n",
              "NY    50000          10.0      US        0                   17  North America\n",
              "NY    50000          10.0      US        0                  127  North America\n",
              "NY    50000          10.0      US        0                   37  North America\n",
              "CA    30000         100.0      US        0                   17  North America\n",
              "CA    30000         100.0      US        0                  127  North America\n",
              "CA    30000         100.0      US        0                   37  North America\n",
              "PA    40000         300.0      US        0                   17  North America\n",
              "PA    40000         300.0      US        0                  127  North America\n",
              "PA    40000         300.0      US        0                   37  North America"
            ]
          },
          "metadata": {
            "tags": []
          },
          "execution_count": 64
        }
      ]
    },
    {
      "cell_type": "code",
      "metadata": {
        "id": "uqXg9EufvVs_",
        "colab_type": "code",
        "colab": {}
      },
      "source": [
        ""
      ],
      "execution_count": 0,
      "outputs": []
    }
  ]
}